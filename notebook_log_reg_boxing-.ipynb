{
 "cells": [
  {
   "cell_type": "markdown",
   "metadata": {},
   "source": [
    "# Boxing Bouts Logistic Regression."
   ]
  },
  {
   "cell_type": "markdown",
   "metadata": {},
   "source": [
    "## Importing and cleansing data"
   ]
  },
  {
   "cell_type": "markdown",
   "metadata": {},
   "source": [
    "### Import modules"
   ]
  },
  {
   "cell_type": "code",
   "execution_count": 1,
   "metadata": {},
   "outputs": [
    {
     "name": "stderr",
     "output_type": "stream",
     "text": [
      "/Library/Frameworks/Python.framework/Versions/3.6/lib/python3.6/site-packages/sklearn/cross_validation.py:41: DeprecationWarning: This module was deprecated in version 0.18 in favor of the model_selection module into which all the refactored classes and functions are moved. Also note that the interface of the new CV iterators are different from that of this module. This module will be removed in 0.20.\n",
      "  \"This module will be removed in 0.20.\", DeprecationWarning)\n"
     ]
    }
   ],
   "source": [
    "import pandas as pd\n",
    "import numpy as np\n",
    "\n",
    "from sklearn import preprocessing\n",
    "from sklearn.linear_model import LogisticRegression\n",
    "from sklearn.cross_validation import train_test_split"
   ]
  },
  {
   "cell_type": "markdown",
   "metadata": {},
   "source": [
    "### Visualisation Settings"
   ]
  },
  {
   "cell_type": "code",
   "execution_count": 2,
   "metadata": {},
   "outputs": [],
   "source": [
    "import matplotlib.pyplot as plt\n",
    "import seaborn as sns\n",
    "\n",
    "%matplotlib inline\n",
    "plt.rc(\"font\", size=14)\n",
    "sns.set(rc={'figure.figsize':(12,12)})\n",
    "sns.set_style('whitegrid')\n",
    "sns.set_palette('BuGn')"
   ]
  },
  {
   "cell_type": "markdown",
   "metadata": {},
   "source": [
    "### Logistic Regression Assumptions"
   ]
  },
  {
   "cell_type": "code",
   "execution_count": 3,
   "metadata": {},
   "outputs": [],
   "source": [
    "#  Binary logistic regression requires the dependent variable to be binary.\n",
    "#  For a binary regression, the factor level 1 of the dependent variable should represent the desired outcome.\n",
    "#  Only the meaningful variables should be included.\n",
    "#  The independent variables should be independent of each other. That is, the model should have little or no multicollinearity.\n",
    "#  The independent variables are linearly related to the log odds.\n",
    "#  Logistic regression requires quite large sample sizes."
   ]
  },
  {
   "cell_type": "markdown",
   "metadata": {},
   "source": [
    "### Data"
   ]
  },
  {
   "cell_type": "code",
   "execution_count": 4,
   "metadata": {},
   "outputs": [],
   "source": [
    "data = pd.read_csv(\"/Users/danielcorcoran/PycharmProjects/daniels_mac_proj/datasets/for_testing/cleaned_bout.csv\")"
   ]
  },
  {
   "cell_type": "code",
   "execution_count": 5,
   "metadata": {},
   "outputs": [
    {
     "data": {
      "text/html": [
       "<div>\n",
       "<style scoped>\n",
       "    .dataframe tbody tr th:only-of-type {\n",
       "        vertical-align: middle;\n",
       "    }\n",
       "\n",
       "    .dataframe tbody tr th {\n",
       "        vertical-align: top;\n",
       "    }\n",
       "\n",
       "    .dataframe thead th {\n",
       "        text-align: right;\n",
       "    }\n",
       "</style>\n",
       "<table border=\"1\" class=\"dataframe\">\n",
       "  <thead>\n",
       "    <tr style=\"text-align: right;\">\n",
       "      <th></th>\n",
       "      <th>Unnamed: 0</th>\n",
       "      <th>age_A</th>\n",
       "      <th>age_B</th>\n",
       "      <th>height_A</th>\n",
       "      <th>height_B</th>\n",
       "      <th>reach_A</th>\n",
       "      <th>reach_B</th>\n",
       "      <th>stance_A</th>\n",
       "      <th>stance_B</th>\n",
       "      <th>weight_A</th>\n",
       "      <th>...</th>\n",
       "      <th>kos_A</th>\n",
       "      <th>kos_B</th>\n",
       "      <th>result</th>\n",
       "      <th>decision</th>\n",
       "      <th>judge1_A</th>\n",
       "      <th>judge1_B</th>\n",
       "      <th>judge2_A</th>\n",
       "      <th>judge2_B</th>\n",
       "      <th>judge3_A</th>\n",
       "      <th>judge3_B</th>\n",
       "    </tr>\n",
       "  </thead>\n",
       "  <tbody>\n",
       "    <tr>\n",
       "      <th>0</th>\n",
       "      <td>1</td>\n",
       "      <td>26.0</td>\n",
       "      <td>31.0</td>\n",
       "      <td>175.0</td>\n",
       "      <td>185.0</td>\n",
       "      <td>179.0</td>\n",
       "      <td>185.0</td>\n",
       "      <td>orthodox</td>\n",
       "      <td>orthodox</td>\n",
       "      <td>164.0</td>\n",
       "      <td>...</td>\n",
       "      <td>34</td>\n",
       "      <td>32.0</td>\n",
       "      <td>win_A</td>\n",
       "      <td>UD</td>\n",
       "      <td>120.0</td>\n",
       "      <td>108.0</td>\n",
       "      <td>120.0</td>\n",
       "      <td>108.0</td>\n",
       "      <td>120.0</td>\n",
       "      <td>108.0</td>\n",
       "    </tr>\n",
       "    <tr>\n",
       "      <th>1</th>\n",
       "      <td>3</td>\n",
       "      <td>25.0</td>\n",
       "      <td>29.0</td>\n",
       "      <td>175.0</td>\n",
       "      <td>174.0</td>\n",
       "      <td>179.0</td>\n",
       "      <td>180.0</td>\n",
       "      <td>orthodox</td>\n",
       "      <td>orthodox</td>\n",
       "      <td>155.0</td>\n",
       "      <td>...</td>\n",
       "      <td>32</td>\n",
       "      <td>19.0</td>\n",
       "      <td>win_A</td>\n",
       "      <td>KO</td>\n",
       "      <td>47.0</td>\n",
       "      <td>48.0</td>\n",
       "      <td>49.0</td>\n",
       "      <td>46.0</td>\n",
       "      <td>48.0</td>\n",
       "      <td>47.0</td>\n",
       "    </tr>\n",
       "    <tr>\n",
       "      <th>2</th>\n",
       "      <td>6</td>\n",
       "      <td>23.0</td>\n",
       "      <td>31.0</td>\n",
       "      <td>175.0</td>\n",
       "      <td>175.0</td>\n",
       "      <td>179.0</td>\n",
       "      <td>188.0</td>\n",
       "      <td>orthodox</td>\n",
       "      <td>orthodox</td>\n",
       "      <td>155.0</td>\n",
       "      <td>...</td>\n",
       "      <td>31</td>\n",
       "      <td>12.0</td>\n",
       "      <td>win_A</td>\n",
       "      <td>SD</td>\n",
       "      <td>115.0</td>\n",
       "      <td>113.0</td>\n",
       "      <td>117.0</td>\n",
       "      <td>111.0</td>\n",
       "      <td>113.0</td>\n",
       "      <td>115.0</td>\n",
       "    </tr>\n",
       "  </tbody>\n",
       "</table>\n",
       "<p>3 rows × 27 columns</p>\n",
       "</div>"
      ],
      "text/plain": [
       "   Unnamed: 0  age_A  age_B  height_A  height_B  reach_A  reach_B  stance_A  \\\n",
       "0           1   26.0   31.0     175.0     185.0    179.0    185.0  orthodox   \n",
       "1           3   25.0   29.0     175.0     174.0    179.0    180.0  orthodox   \n",
       "2           6   23.0   31.0     175.0     175.0    179.0    188.0  orthodox   \n",
       "\n",
       "   stance_B  weight_A   ...     kos_A  kos_B  result  decision  judge1_A  \\\n",
       "0  orthodox     164.0   ...        34   32.0   win_A        UD     120.0   \n",
       "1  orthodox     155.0   ...        32   19.0   win_A        KO      47.0   \n",
       "2  orthodox     155.0   ...        31   12.0   win_A        SD     115.0   \n",
       "\n",
       "   judge1_B  judge2_A  judge2_B  judge3_A judge3_B  \n",
       "0     108.0     120.0     108.0     120.0    108.0  \n",
       "1      48.0      49.0      46.0      48.0     47.0  \n",
       "2     113.0     117.0     111.0     113.0    115.0  \n",
       "\n",
       "[3 rows x 27 columns]"
      ]
     },
     "execution_count": 5,
     "metadata": {},
     "output_type": "execute_result"
    }
   ],
   "source": [
    "data.head(3)"
   ]
  },
  {
   "cell_type": "code",
   "execution_count": 6,
   "metadata": {},
   "outputs": [
    {
     "data": {
      "text/plain": [
       "(2728, 27)"
      ]
     },
     "execution_count": 6,
     "metadata": {},
     "output_type": "execute_result"
    }
   ],
   "source": [
    "data.shape"
   ]
  },
  {
   "cell_type": "markdown",
   "metadata": {},
   "source": [
    "### I want to remove features which are recorded after the result of the bout"
   ]
  },
  {
   "cell_type": "code",
   "execution_count": 7,
   "metadata": {},
   "outputs": [],
   "source": [
    "data = data.drop(\n",
    "    [\n",
    "        \"Unnamed: 0\", \"judge1_A\", \"judge2_A\", \"judge3_A\", \"judge1_B\",\n",
    "        \"judge2_B\", \"judge3_B\", \"decision\"\n",
    "    ],\n",
    "    axis=1)"
   ]
  },
  {
   "cell_type": "code",
   "execution_count": 8,
   "metadata": {},
   "outputs": [
    {
     "data": {
      "text/html": [
       "<div>\n",
       "<style scoped>\n",
       "    .dataframe tbody tr th:only-of-type {\n",
       "        vertical-align: middle;\n",
       "    }\n",
       "\n",
       "    .dataframe tbody tr th {\n",
       "        vertical-align: top;\n",
       "    }\n",
       "\n",
       "    .dataframe thead th {\n",
       "        text-align: right;\n",
       "    }\n",
       "</style>\n",
       "<table border=\"1\" class=\"dataframe\">\n",
       "  <thead>\n",
       "    <tr style=\"text-align: right;\">\n",
       "      <th></th>\n",
       "      <th>age_A</th>\n",
       "      <th>age_B</th>\n",
       "      <th>height_A</th>\n",
       "      <th>height_B</th>\n",
       "      <th>reach_A</th>\n",
       "      <th>reach_B</th>\n",
       "      <th>stance_A</th>\n",
       "      <th>stance_B</th>\n",
       "      <th>weight_A</th>\n",
       "      <th>weight_B</th>\n",
       "      <th>won_A</th>\n",
       "      <th>won_B</th>\n",
       "      <th>lost_A</th>\n",
       "      <th>lost_B</th>\n",
       "      <th>drawn_A</th>\n",
       "      <th>drawn_B</th>\n",
       "      <th>kos_A</th>\n",
       "      <th>kos_B</th>\n",
       "      <th>result</th>\n",
       "    </tr>\n",
       "  </thead>\n",
       "  <tbody>\n",
       "    <tr>\n",
       "      <th>0</th>\n",
       "      <td>26.0</td>\n",
       "      <td>31.0</td>\n",
       "      <td>175.0</td>\n",
       "      <td>185.0</td>\n",
       "      <td>179.0</td>\n",
       "      <td>185.0</td>\n",
       "      <td>orthodox</td>\n",
       "      <td>orthodox</td>\n",
       "      <td>164.0</td>\n",
       "      <td>164.0</td>\n",
       "      <td>48</td>\n",
       "      <td>50</td>\n",
       "      <td>1</td>\n",
       "      <td>2</td>\n",
       "      <td>1</td>\n",
       "      <td>1</td>\n",
       "      <td>34</td>\n",
       "      <td>32.0</td>\n",
       "      <td>win_A</td>\n",
       "    </tr>\n",
       "    <tr>\n",
       "      <th>1</th>\n",
       "      <td>25.0</td>\n",
       "      <td>29.0</td>\n",
       "      <td>175.0</td>\n",
       "      <td>174.0</td>\n",
       "      <td>179.0</td>\n",
       "      <td>180.0</td>\n",
       "      <td>orthodox</td>\n",
       "      <td>orthodox</td>\n",
       "      <td>155.0</td>\n",
       "      <td>155.0</td>\n",
       "      <td>46</td>\n",
       "      <td>31</td>\n",
       "      <td>1</td>\n",
       "      <td>3</td>\n",
       "      <td>1</td>\n",
       "      <td>0</td>\n",
       "      <td>32</td>\n",
       "      <td>19.0</td>\n",
       "      <td>win_A</td>\n",
       "    </tr>\n",
       "    <tr>\n",
       "      <th>2</th>\n",
       "      <td>23.0</td>\n",
       "      <td>31.0</td>\n",
       "      <td>175.0</td>\n",
       "      <td>175.0</td>\n",
       "      <td>179.0</td>\n",
       "      <td>188.0</td>\n",
       "      <td>orthodox</td>\n",
       "      <td>orthodox</td>\n",
       "      <td>155.0</td>\n",
       "      <td>155.0</td>\n",
       "      <td>43</td>\n",
       "      <td>19</td>\n",
       "      <td>1</td>\n",
       "      <td>1</td>\n",
       "      <td>1</td>\n",
       "      <td>2</td>\n",
       "      <td>31</td>\n",
       "      <td>12.0</td>\n",
       "      <td>win_A</td>\n",
       "    </tr>\n",
       "  </tbody>\n",
       "</table>\n",
       "</div>"
      ],
      "text/plain": [
       "   age_A  age_B  height_A  height_B  reach_A  reach_B  stance_A  stance_B  \\\n",
       "0   26.0   31.0     175.0     185.0    179.0    185.0  orthodox  orthodox   \n",
       "1   25.0   29.0     175.0     174.0    179.0    180.0  orthodox  orthodox   \n",
       "2   23.0   31.0     175.0     175.0    179.0    188.0  orthodox  orthodox   \n",
       "\n",
       "   weight_A  weight_B  won_A  won_B  lost_A  lost_B  drawn_A  drawn_B  kos_A  \\\n",
       "0     164.0     164.0     48     50       1       2        1        1     34   \n",
       "1     155.0     155.0     46     31       1       3        1        0     32   \n",
       "2     155.0     155.0     43     19       1       1        1        2     31   \n",
       "\n",
       "   kos_B result  \n",
       "0   32.0  win_A  \n",
       "1   19.0  win_A  \n",
       "2   12.0  win_A  "
      ]
     },
     "execution_count": 8,
     "metadata": {},
     "output_type": "execute_result"
    }
   ],
   "source": [
    "data.head(3)"
   ]
  },
  {
   "cell_type": "code",
   "execution_count": 9,
   "metadata": {},
   "outputs": [
    {
     "data": {
      "text/plain": [
       "(2728, 19)"
      ]
     },
     "execution_count": 9,
     "metadata": {},
     "output_type": "execute_result"
    }
   ],
   "source": [
    "data.shape"
   ]
  },
  {
   "cell_type": "code",
   "execution_count": 10,
   "metadata": {},
   "outputs": [
    {
     "name": "stdout",
     "output_type": "stream",
     "text": [
      "age_A has 35 unique values.\n",
      "age_B has 35 unique values.\n",
      "height_A has 50 unique values.\n",
      "height_B has 50 unique values.\n",
      "reach_A has 58 unique values.\n",
      "reach_B has 60 unique values.\n",
      "stance_A has 2 unique values.\n",
      "stance_B has 2 unique values.\n",
      "weight_A has 162 unique values.\n",
      "weight_B has 168 unique values.\n",
      "won_A has 89 unique values.\n",
      "won_B has 83 unique values.\n",
      "lost_A has 23 unique values.\n",
      "lost_B has 38 unique values.\n",
      "drawn_A has 8 unique values.\n",
      "drawn_B has 9 unique values.\n",
      "kos_A has 66 unique values.\n",
      "kos_B has 68 unique values.\n",
      "result has 2 unique values.\n"
     ]
    }
   ],
   "source": [
    "for column in data.columns:\n",
    "    unique_values = data[column].value_counts().count()\n",
    "    print(column,\"has\",unique_values,\"unique values.\")"
   ]
  },
  {
   "cell_type": "markdown",
   "metadata": {},
   "source": [
    "### I want to create new custom columns i.e ratios/diffs"
   ]
  },
  {
   "cell_type": "code",
   "execution_count": 11,
   "metadata": {},
   "outputs": [
    {
     "name": "stdout",
     "output_type": "stream",
     "text": [
      "age_A\n",
      "age_B\n",
      "height_A\n",
      "height_B\n",
      "reach_A\n",
      "reach_B\n",
      "stance_A\n",
      "stance_B\n",
      "weight_A\n",
      "weight_B\n",
      "won_A\n",
      "won_B\n",
      "lost_A\n",
      "lost_B\n",
      "drawn_A\n",
      "drawn_B\n",
      "kos_A\n",
      "kos_B\n",
      "result\n"
     ]
    }
   ],
   "source": [
    "#first show the available columns\n",
    "for column in data.columns:\n",
    "    print(column)"
   ]
  },
  {
   "cell_type": "code",
   "execution_count": 12,
   "metadata": {},
   "outputs": [],
   "source": [
    "age_diff = data[\"age_A\"] - data[\"age_B\"]\n",
    "height_diff = data[\"height_A\"] - data[\"height_B\"]\n",
    "reach_diff = data[\"reach_A\"] - data[\"reach_B\"]\n",
    "weight_diff = data[\"weight_A\"] - data[\"weight_B\"]\n",
    "kd_diff_A = data[\"won_A\"] - data[\"lost_A\"]\n",
    "kd_diff_B = data[\"won_B\"] - data[\"lost_B\"]"
   ]
  },
  {
   "cell_type": "code",
   "execution_count": 13,
   "metadata": {},
   "outputs": [],
   "source": [
    "data = pd.concat(\n",
    "    [\n",
    "        data,\n",
    "        age_diff.rename(\"age_diff\"),\n",
    "        height_diff.rename(\"height_diff\"),\n",
    "        reach_diff.rename(\"reach_diff\"),\n",
    "        weight_diff.rename(\"weight_diff\"),\n",
    "        kd_diff_A.rename(\"kd_diff_A\"),\n",
    "        kd_diff_B.rename(\"kd_diff_B\")\n",
    "    ],\n",
    "    \n",
    "    axis=1)"
   ]
  },
  {
   "cell_type": "markdown",
   "metadata": {},
   "source": [
    "### Check the concatenated data "
   ]
  },
  {
   "cell_type": "code",
   "execution_count": 14,
   "metadata": {},
   "outputs": [
    {
     "data": {
      "text/plain": [
       "(2728, 25)"
      ]
     },
     "execution_count": 14,
     "metadata": {},
     "output_type": "execute_result"
    }
   ],
   "source": [
    "data.shape"
   ]
  },
  {
   "cell_type": "code",
   "execution_count": 15,
   "metadata": {},
   "outputs": [
    {
     "data": {
      "text/html": [
       "<div>\n",
       "<style scoped>\n",
       "    .dataframe tbody tr th:only-of-type {\n",
       "        vertical-align: middle;\n",
       "    }\n",
       "\n",
       "    .dataframe tbody tr th {\n",
       "        vertical-align: top;\n",
       "    }\n",
       "\n",
       "    .dataframe thead th {\n",
       "        text-align: right;\n",
       "    }\n",
       "</style>\n",
       "<table border=\"1\" class=\"dataframe\">\n",
       "  <thead>\n",
       "    <tr style=\"text-align: right;\">\n",
       "      <th></th>\n",
       "      <th>age_A</th>\n",
       "      <th>age_B</th>\n",
       "      <th>height_A</th>\n",
       "      <th>height_B</th>\n",
       "      <th>reach_A</th>\n",
       "      <th>reach_B</th>\n",
       "      <th>stance_A</th>\n",
       "      <th>stance_B</th>\n",
       "      <th>weight_A</th>\n",
       "      <th>weight_B</th>\n",
       "      <th>...</th>\n",
       "      <th>drawn_B</th>\n",
       "      <th>kos_A</th>\n",
       "      <th>kos_B</th>\n",
       "      <th>result</th>\n",
       "      <th>age_diff</th>\n",
       "      <th>height_diff</th>\n",
       "      <th>reach_diff</th>\n",
       "      <th>weight_diff</th>\n",
       "      <th>kd_diff_A</th>\n",
       "      <th>kd_diff_B</th>\n",
       "    </tr>\n",
       "  </thead>\n",
       "  <tbody>\n",
       "    <tr>\n",
       "      <th>0</th>\n",
       "      <td>26.0</td>\n",
       "      <td>31.0</td>\n",
       "      <td>175.0</td>\n",
       "      <td>185.0</td>\n",
       "      <td>179.0</td>\n",
       "      <td>185.0</td>\n",
       "      <td>orthodox</td>\n",
       "      <td>orthodox</td>\n",
       "      <td>164.0</td>\n",
       "      <td>164.0</td>\n",
       "      <td>...</td>\n",
       "      <td>1</td>\n",
       "      <td>34</td>\n",
       "      <td>32.0</td>\n",
       "      <td>win_A</td>\n",
       "      <td>-5.0</td>\n",
       "      <td>-10.0</td>\n",
       "      <td>-6.0</td>\n",
       "      <td>0.0</td>\n",
       "      <td>47</td>\n",
       "      <td>48</td>\n",
       "    </tr>\n",
       "    <tr>\n",
       "      <th>1</th>\n",
       "      <td>25.0</td>\n",
       "      <td>29.0</td>\n",
       "      <td>175.0</td>\n",
       "      <td>174.0</td>\n",
       "      <td>179.0</td>\n",
       "      <td>180.0</td>\n",
       "      <td>orthodox</td>\n",
       "      <td>orthodox</td>\n",
       "      <td>155.0</td>\n",
       "      <td>155.0</td>\n",
       "      <td>...</td>\n",
       "      <td>0</td>\n",
       "      <td>32</td>\n",
       "      <td>19.0</td>\n",
       "      <td>win_A</td>\n",
       "      <td>-4.0</td>\n",
       "      <td>1.0</td>\n",
       "      <td>-1.0</td>\n",
       "      <td>0.0</td>\n",
       "      <td>45</td>\n",
       "      <td>28</td>\n",
       "    </tr>\n",
       "    <tr>\n",
       "      <th>2</th>\n",
       "      <td>23.0</td>\n",
       "      <td>31.0</td>\n",
       "      <td>175.0</td>\n",
       "      <td>175.0</td>\n",
       "      <td>179.0</td>\n",
       "      <td>188.0</td>\n",
       "      <td>orthodox</td>\n",
       "      <td>orthodox</td>\n",
       "      <td>155.0</td>\n",
       "      <td>155.0</td>\n",
       "      <td>...</td>\n",
       "      <td>2</td>\n",
       "      <td>31</td>\n",
       "      <td>12.0</td>\n",
       "      <td>win_A</td>\n",
       "      <td>-8.0</td>\n",
       "      <td>0.0</td>\n",
       "      <td>-9.0</td>\n",
       "      <td>0.0</td>\n",
       "      <td>42</td>\n",
       "      <td>18</td>\n",
       "    </tr>\n",
       "  </tbody>\n",
       "</table>\n",
       "<p>3 rows × 25 columns</p>\n",
       "</div>"
      ],
      "text/plain": [
       "   age_A  age_B  height_A  height_B  reach_A  reach_B  stance_A  stance_B  \\\n",
       "0   26.0   31.0     175.0     185.0    179.0    185.0  orthodox  orthodox   \n",
       "1   25.0   29.0     175.0     174.0    179.0    180.0  orthodox  orthodox   \n",
       "2   23.0   31.0     175.0     175.0    179.0    188.0  orthodox  orthodox   \n",
       "\n",
       "   weight_A  weight_B    ...      drawn_B  kos_A  kos_B  result  age_diff  \\\n",
       "0     164.0     164.0    ...            1     34   32.0   win_A      -5.0   \n",
       "1     155.0     155.0    ...            0     32   19.0   win_A      -4.0   \n",
       "2     155.0     155.0    ...            2     31   12.0   win_A      -8.0   \n",
       "\n",
       "   height_diff  reach_diff  weight_diff kd_diff_A  kd_diff_B  \n",
       "0        -10.0        -6.0          0.0        47         48  \n",
       "1          1.0        -1.0          0.0        45         28  \n",
       "2          0.0        -9.0          0.0        42         18  \n",
       "\n",
       "[3 rows x 25 columns]"
      ]
     },
     "execution_count": 15,
     "metadata": {},
     "output_type": "execute_result"
    }
   ],
   "source": [
    "data.head(3)"
   ]
  },
  {
   "cell_type": "markdown",
   "metadata": {},
   "source": [
    "### 'result' is the dependent variable, convert it to 0 and 1s "
   ]
  },
  {
   "cell_type": "code",
   "execution_count": 16,
   "metadata": {},
   "outputs": [],
   "source": [
    "data[\"result\"] = data[\"result\"].replace(\"win_A\", 1)\n",
    "data[\"result\"] = data[\"result\"].replace(\"win_B\", 0)"
   ]
  },
  {
   "cell_type": "code",
   "execution_count": 17,
   "metadata": {},
   "outputs": [
    {
     "data": {
      "text/plain": [
       "1    2315\n",
       "0     413\n",
       "Name: result, dtype: int64"
      ]
     },
     "execution_count": 17,
     "metadata": {},
     "output_type": "execute_result"
    }
   ],
   "source": [
    "data[\"result\"].value_counts()"
   ]
  },
  {
   "cell_type": "markdown",
   "metadata": {},
   "source": [
    "## Meeting the assumptions of the model"
   ]
  },
  {
   "cell_type": "markdown",
   "metadata": {},
   "source": [
    "### Meeting condition 1: No Nulls"
   ]
  },
  {
   "cell_type": "code",
   "execution_count": 18,
   "metadata": {},
   "outputs": [
    {
     "name": "stdout",
     "output_type": "stream",
     "text": [
      "<class 'pandas.core.frame.DataFrame'>\n",
      "RangeIndex: 2728 entries, 0 to 2727\n",
      "Data columns (total 25 columns):\n",
      "age_A          2728 non-null float64\n",
      "age_B          2728 non-null float64\n",
      "height_A       2728 non-null float64\n",
      "height_B       2728 non-null float64\n",
      "reach_A        2728 non-null float64\n",
      "reach_B        2728 non-null float64\n",
      "stance_A       2728 non-null object\n",
      "stance_B       2728 non-null object\n",
      "weight_A       2728 non-null float64\n",
      "weight_B       2728 non-null float64\n",
      "won_A          2728 non-null int64\n",
      "won_B          2728 non-null int64\n",
      "lost_A         2728 non-null int64\n",
      "lost_B         2728 non-null int64\n",
      "drawn_A        2728 non-null int64\n",
      "drawn_B        2728 non-null int64\n",
      "kos_A          2728 non-null int64\n",
      "kos_B          2728 non-null float64\n",
      "result         2728 non-null int64\n",
      "age_diff       2728 non-null float64\n",
      "height_diff    2728 non-null float64\n",
      "reach_diff     2728 non-null float64\n",
      "weight_diff    2728 non-null float64\n",
      "kd_diff_A      2728 non-null int64\n",
      "kd_diff_B      2728 non-null int64\n",
      "dtypes: float64(13), int64(10), object(2)\n",
      "memory usage: 532.9+ KB\n"
     ]
    }
   ],
   "source": [
    "data.info()"
   ]
  },
  {
   "cell_type": "code",
   "execution_count": 19,
   "metadata": {},
   "outputs": [
    {
     "name": "stdout",
     "output_type": "stream",
     "text": [
      "age_A : 100.00%\n",
      "age_B : 100.00%\n",
      "height_A : 100.00%\n",
      "height_B : 100.00%\n",
      "reach_A : 100.00%\n",
      "reach_B : 100.00%\n",
      "stance_A : 100.00%\n",
      "stance_B : 100.00%\n",
      "weight_A : 100.00%\n",
      "weight_B : 100.00%\n",
      "won_A : 100.00%\n",
      "won_B : 100.00%\n",
      "lost_A : 100.00%\n",
      "lost_B : 100.00%\n",
      "drawn_A : 100.00%\n",
      "drawn_B : 100.00%\n",
      "kos_A : 100.00%\n",
      "kos_B : 100.00%\n",
      "result : 100.00%\n",
      "age_diff : 100.00%\n",
      "height_diff : 100.00%\n",
      "reach_diff : 100.00%\n",
      "weight_diff : 100.00%\n",
      "kd_diff_A : 100.00%\n",
      "kd_diff_B : 100.00%\n"
     ]
    }
   ],
   "source": [
    "for column in data.columns:\n",
    "    print(column,\":\",\"{:.2%}\".format(1-(data[column].isnull().sum()/data.shape[0])))"
   ]
  },
  {
   "cell_type": "markdown",
   "metadata": {},
   "source": [
    "### Meeting condition 2: Sufficient Records"
   ]
  },
  {
   "cell_type": "code",
   "execution_count": 20,
   "metadata": {},
   "outputs": [
    {
     "data": {
      "text/plain": [
       "109.12"
      ]
     },
     "execution_count": 20,
     "metadata": {},
     "output_type": "execute_result"
    }
   ],
   "source": [
    "data.shape[0]/data.shape[1]"
   ]
  },
  {
   "cell_type": "code",
   "execution_count": 21,
   "metadata": {},
   "outputs": [],
   "source": [
    "# condition is 50 records per variable"
   ]
  },
  {
   "cell_type": "markdown",
   "metadata": {},
   "source": [
    "### Meeting condition 3: Target is binary or ordinal"
   ]
  },
  {
   "cell_type": "code",
   "execution_count": 22,
   "metadata": {},
   "outputs": [
    {
     "data": {
      "text/plain": [
       "1    2315\n",
       "0     413\n",
       "Name: result, dtype: int64"
      ]
     },
     "execution_count": 22,
     "metadata": {},
     "output_type": "execute_result"
    }
   ],
   "source": [
    "dependent_variable = \"result\"\n",
    "data[dependent_variable].value_counts()"
   ]
  },
  {
   "cell_type": "code",
   "execution_count": 23,
   "metadata": {},
   "outputs": [],
   "source": [
    "# there are only 2 values in the target varible, target is binary."
   ]
  },
  {
   "cell_type": "code",
   "execution_count": 24,
   "metadata": {},
   "outputs": [
    {
     "data": {
      "text/plain": [
       "<matplotlib.axes._subplots.AxesSubplot at 0x116220f98>"
      ]
     },
     "execution_count": 24,
     "metadata": {},
     "output_type": "execute_result"
    },
    {
     "data": {
      "image/png": "[encoded data removed]",
      "text/plain": [
       "<Figure size 432x288 with 1 Axes>"
      ]
     },
     "metadata": {},
     "output_type": "display_data"
    }
   ],
   "source": [
    "sns.countplot(data = data, x = dependent_variable)"
   ]
  },
  {
   "cell_type": "markdown",
   "metadata": {},
   "source": [
    "### Meeting condition 4: Little to no multicollinearity"
   ]
  },
  {
   "cell_type": "code",
   "execution_count": 25,
   "metadata": {},
   "outputs": [
    {
     "data": {
      "image/png": "[encoded data removed]",
      "text/plain": [
       "<Figure size 432x288 with 2 Axes>"
      ]
     },
     "metadata": {},
     "output_type": "display_data"
    }
   ],
   "source": [
    "corr = data.corr()\n",
    "mask = np.zeros_like(corr)\n",
    "mask[np.triu_indices_from(mask)] = True\n",
    "ax = sns.heatmap(corr, mask = mask, vmax = 0.3, square = True)"
   ]
  },
  {
   "cell_type": "markdown",
   "metadata": {},
   "source": [
    "## Data Manipulation"
   ]
  },
  {
   "cell_type": "markdown",
   "metadata": {},
   "source": [
    "### Data Exploration"
   ]
  },
  {
   "cell_type": "code",
   "execution_count": 26,
   "metadata": {},
   "outputs": [
    {
     "data": {
      "text/html": [
       "<div>\n",
       "<style scoped>\n",
       "    .dataframe tbody tr th:only-of-type {\n",
       "        vertical-align: middle;\n",
       "    }\n",
       "\n",
       "    .dataframe tbody tr th {\n",
       "        vertical-align: top;\n",
       "    }\n",
       "\n",
       "    .dataframe thead th {\n",
       "        text-align: right;\n",
       "    }\n",
       "</style>\n",
       "<table border=\"1\" class=\"dataframe\">\n",
       "  <thead>\n",
       "    <tr style=\"text-align: right;\">\n",
       "      <th></th>\n",
       "      <th>age_A</th>\n",
       "      <th>age_B</th>\n",
       "      <th>height_A</th>\n",
       "      <th>height_B</th>\n",
       "      <th>reach_A</th>\n",
       "      <th>reach_B</th>\n",
       "      <th>weight_A</th>\n",
       "      <th>weight_B</th>\n",
       "      <th>won_A</th>\n",
       "      <th>won_B</th>\n",
       "      <th>...</th>\n",
       "      <th>drawn_A</th>\n",
       "      <th>drawn_B</th>\n",
       "      <th>kos_A</th>\n",
       "      <th>kos_B</th>\n",
       "      <th>age_diff</th>\n",
       "      <th>height_diff</th>\n",
       "      <th>reach_diff</th>\n",
       "      <th>weight_diff</th>\n",
       "      <th>kd_diff_A</th>\n",
       "      <th>kd_diff_B</th>\n",
       "    </tr>\n",
       "    <tr>\n",
       "      <th>result</th>\n",
       "      <th></th>\n",
       "      <th></th>\n",
       "      <th></th>\n",
       "      <th></th>\n",
       "      <th></th>\n",
       "      <th></th>\n",
       "      <th></th>\n",
       "      <th></th>\n",
       "      <th></th>\n",
       "      <th></th>\n",
       "      <th></th>\n",
       "      <th></th>\n",
       "      <th></th>\n",
       "      <th></th>\n",
       "      <th></th>\n",
       "      <th></th>\n",
       "      <th></th>\n",
       "      <th></th>\n",
       "      <th></th>\n",
       "      <th></th>\n",
       "      <th></th>\n",
       "    </tr>\n",
       "  </thead>\n",
       "  <tbody>\n",
       "    <tr>\n",
       "      <th>0</th>\n",
       "      <td>28.755448</td>\n",
       "      <td>27.663438</td>\n",
       "      <td>175.549637</td>\n",
       "      <td>176.307506</td>\n",
       "      <td>180.319613</td>\n",
       "      <td>181.283293</td>\n",
       "      <td>154.728814</td>\n",
       "      <td>155.094431</td>\n",
       "      <td>26.859564</td>\n",
       "      <td>24.292978</td>\n",
       "      <td>...</td>\n",
       "      <td>0.573850</td>\n",
       "      <td>0.641646</td>\n",
       "      <td>17.602906</td>\n",
       "      <td>16.922518</td>\n",
       "      <td>1.092010</td>\n",
       "      <td>-0.757869</td>\n",
       "      <td>-0.963680</td>\n",
       "      <td>-0.365617</td>\n",
       "      <td>23.905569</td>\n",
       "      <td>21.653753</td>\n",
       "    </tr>\n",
       "    <tr>\n",
       "      <th>1</th>\n",
       "      <td>27.249244</td>\n",
       "      <td>28.960259</td>\n",
       "      <td>174.971922</td>\n",
       "      <td>174.104104</td>\n",
       "      <td>180.074730</td>\n",
       "      <td>179.255292</td>\n",
       "      <td>150.293737</td>\n",
       "      <td>150.644060</td>\n",
       "      <td>24.973218</td>\n",
       "      <td>24.199568</td>\n",
       "      <td>...</td>\n",
       "      <td>0.486393</td>\n",
       "      <td>0.860907</td>\n",
       "      <td>16.660043</td>\n",
       "      <td>15.485529</td>\n",
       "      <td>-1.711015</td>\n",
       "      <td>0.867819</td>\n",
       "      <td>0.819438</td>\n",
       "      <td>-0.350324</td>\n",
       "      <td>23.012959</td>\n",
       "      <td>19.408639</td>\n",
       "    </tr>\n",
       "  </tbody>\n",
       "</table>\n",
       "<p>2 rows × 22 columns</p>\n",
       "</div>"
      ],
      "text/plain": [
       "            age_A      age_B    height_A    height_B     reach_A     reach_B  \\\n",
       "result                                                                         \n",
       "0       28.755448  27.663438  175.549637  176.307506  180.319613  181.283293   \n",
       "1       27.249244  28.960259  174.971922  174.104104  180.074730  179.255292   \n",
       "\n",
       "          weight_A    weight_B      won_A      won_B    ...       drawn_A  \\\n",
       "result                                                  ...                 \n",
       "0       154.728814  155.094431  26.859564  24.292978    ...      0.573850   \n",
       "1       150.293737  150.644060  24.973218  24.199568    ...      0.486393   \n",
       "\n",
       "         drawn_B      kos_A      kos_B  age_diff  height_diff  reach_diff  \\\n",
       "result                                                                      \n",
       "0       0.641646  17.602906  16.922518  1.092010    -0.757869   -0.963680   \n",
       "1       0.860907  16.660043  15.485529 -1.711015     0.867819    0.819438   \n",
       "\n",
       "        weight_diff  kd_diff_A  kd_diff_B  \n",
       "result                                     \n",
       "0         -0.365617  23.905569  21.653753  \n",
       "1         -0.350324  23.012959  19.408639  \n",
       "\n",
       "[2 rows x 22 columns]"
      ]
     },
     "execution_count": 26,
     "metadata": {},
     "output_type": "execute_result"
    }
   ],
   "source": [
    "data.groupby(dependent_variable).mean()"
   ]
  },
  {
   "cell_type": "markdown",
   "metadata": {},
   "source": [
    "### Creating Dummy Variables"
   ]
  },
  {
   "cell_type": "code",
   "execution_count": 27,
   "metadata": {},
   "outputs": [],
   "source": [
    "#converting categorical columns into binary columns\n",
    "\n",
    "cat_vars = [\"stance_A\", \"stance_B\"]\n",
    "\n",
    "for var in cat_vars:\n",
    "    cat_list = 'var' + \"_\" + var\n",
    "    cat_list = pd.get_dummies(data[var], prefix=var, drop_first=True)\n",
    "    data1 = data.join(cat_list)\n",
    "    data = data1\n",
    "\n",
    "data_vars = data.columns.values.tolist()\n",
    "to_keep = [i for i in data_vars if i not in cat_vars]"
   ]
  },
  {
   "cell_type": "code",
   "execution_count": 28,
   "metadata": {},
   "outputs": [
    {
     "data": {
      "text/plain": [
       "array(['age_A', 'age_B', 'height_A', 'height_B', 'reach_A', 'reach_B',\n",
       "       'weight_A', 'weight_B', 'won_A', 'won_B', 'lost_A', 'lost_B',\n",
       "       'drawn_A', 'drawn_B', 'kos_A', 'kos_B', 'result', 'age_diff',\n",
       "       'height_diff', 'reach_diff', 'weight_diff', 'kd_diff_A',\n",
       "       'kd_diff_B', 'stance_A_southpaw', 'stance_B_southpaw'],\n",
       "      dtype=object)"
      ]
     },
     "execution_count": 28,
     "metadata": {},
     "output_type": "execute_result"
    }
   ],
   "source": [
    "data_final = data[to_keep]\n",
    "data_final.columns.values"
   ]
  },
  {
   "cell_type": "code",
   "execution_count": 29,
   "metadata": {},
   "outputs": [
    {
     "data": {
      "text/plain": [
       "(2728, 25)"
      ]
     },
     "execution_count": 29,
     "metadata": {},
     "output_type": "execute_result"
    }
   ],
   "source": [
    "data_final.shape"
   ]
  },
  {
   "cell_type": "code",
   "execution_count": 30,
   "metadata": {},
   "outputs": [
    {
     "data": {
      "text/html": [
       "<div>\n",
       "<style scoped>\n",
       "    .dataframe tbody tr th:only-of-type {\n",
       "        vertical-align: middle;\n",
       "    }\n",
       "\n",
       "    .dataframe tbody tr th {\n",
       "        vertical-align: top;\n",
       "    }\n",
       "\n",
       "    .dataframe thead th {\n",
       "        text-align: right;\n",
       "    }\n",
       "</style>\n",
       "<table border=\"1\" class=\"dataframe\">\n",
       "  <thead>\n",
       "    <tr style=\"text-align: right;\">\n",
       "      <th></th>\n",
       "      <th>age_A</th>\n",
       "      <th>age_B</th>\n",
       "      <th>height_A</th>\n",
       "      <th>height_B</th>\n",
       "      <th>reach_A</th>\n",
       "      <th>reach_B</th>\n",
       "      <th>weight_A</th>\n",
       "      <th>weight_B</th>\n",
       "      <th>won_A</th>\n",
       "      <th>won_B</th>\n",
       "      <th>...</th>\n",
       "      <th>kos_B</th>\n",
       "      <th>result</th>\n",
       "      <th>age_diff</th>\n",
       "      <th>height_diff</th>\n",
       "      <th>reach_diff</th>\n",
       "      <th>weight_diff</th>\n",
       "      <th>kd_diff_A</th>\n",
       "      <th>kd_diff_B</th>\n",
       "      <th>stance_A_southpaw</th>\n",
       "      <th>stance_B_southpaw</th>\n",
       "    </tr>\n",
       "  </thead>\n",
       "  <tbody>\n",
       "    <tr>\n",
       "      <th>0</th>\n",
       "      <td>26.0</td>\n",
       "      <td>31.0</td>\n",
       "      <td>175.0</td>\n",
       "      <td>185.0</td>\n",
       "      <td>179.0</td>\n",
       "      <td>185.0</td>\n",
       "      <td>164.0</td>\n",
       "      <td>164.0</td>\n",
       "      <td>48</td>\n",
       "      <td>50</td>\n",
       "      <td>...</td>\n",
       "      <td>32.0</td>\n",
       "      <td>1</td>\n",
       "      <td>-5.0</td>\n",
       "      <td>-10.0</td>\n",
       "      <td>-6.0</td>\n",
       "      <td>0.0</td>\n",
       "      <td>47</td>\n",
       "      <td>48</td>\n",
       "      <td>0</td>\n",
       "      <td>0</td>\n",
       "    </tr>\n",
       "    <tr>\n",
       "      <th>1</th>\n",
       "      <td>25.0</td>\n",
       "      <td>29.0</td>\n",
       "      <td>175.0</td>\n",
       "      <td>174.0</td>\n",
       "      <td>179.0</td>\n",
       "      <td>180.0</td>\n",
       "      <td>155.0</td>\n",
       "      <td>155.0</td>\n",
       "      <td>46</td>\n",
       "      <td>31</td>\n",
       "      <td>...</td>\n",
       "      <td>19.0</td>\n",
       "      <td>1</td>\n",
       "      <td>-4.0</td>\n",
       "      <td>1.0</td>\n",
       "      <td>-1.0</td>\n",
       "      <td>0.0</td>\n",
       "      <td>45</td>\n",
       "      <td>28</td>\n",
       "      <td>0</td>\n",
       "      <td>0</td>\n",
       "    </tr>\n",
       "    <tr>\n",
       "      <th>2</th>\n",
       "      <td>23.0</td>\n",
       "      <td>31.0</td>\n",
       "      <td>175.0</td>\n",
       "      <td>175.0</td>\n",
       "      <td>179.0</td>\n",
       "      <td>188.0</td>\n",
       "      <td>155.0</td>\n",
       "      <td>155.0</td>\n",
       "      <td>43</td>\n",
       "      <td>19</td>\n",
       "      <td>...</td>\n",
       "      <td>12.0</td>\n",
       "      <td>1</td>\n",
       "      <td>-8.0</td>\n",
       "      <td>0.0</td>\n",
       "      <td>-9.0</td>\n",
       "      <td>0.0</td>\n",
       "      <td>42</td>\n",
       "      <td>18</td>\n",
       "      <td>0</td>\n",
       "      <td>0</td>\n",
       "    </tr>\n",
       "  </tbody>\n",
       "</table>\n",
       "<p>3 rows × 25 columns</p>\n",
       "</div>"
      ],
      "text/plain": [
       "   age_A  age_B  height_A  height_B  reach_A  reach_B  weight_A  weight_B  \\\n",
       "0   26.0   31.0     175.0     185.0    179.0    185.0     164.0     164.0   \n",
       "1   25.0   29.0     175.0     174.0    179.0    180.0     155.0     155.0   \n",
       "2   23.0   31.0     175.0     175.0    179.0    188.0     155.0     155.0   \n",
       "\n",
       "   won_A  won_B        ...          kos_B  result  age_diff  height_diff  \\\n",
       "0     48     50        ...           32.0       1      -5.0        -10.0   \n",
       "1     46     31        ...           19.0       1      -4.0          1.0   \n",
       "2     43     19        ...           12.0       1      -8.0          0.0   \n",
       "\n",
       "   reach_diff  weight_diff  kd_diff_A  kd_diff_B  stance_A_southpaw  \\\n",
       "0        -6.0          0.0         47         48                  0   \n",
       "1        -1.0          0.0         45         28                  0   \n",
       "2        -9.0          0.0         42         18                  0   \n",
       "\n",
       "   stance_B_southpaw  \n",
       "0                  0  \n",
       "1                  0  \n",
       "2                  0  \n",
       "\n",
       "[3 rows x 25 columns]"
      ]
     },
     "execution_count": 30,
     "metadata": {},
     "output_type": "execute_result"
    }
   ],
   "source": [
    "data_final.head(3)"
   ]
  },
  {
   "cell_type": "markdown",
   "metadata": {},
   "source": [
    "### Export subset of data after creating dummy variables, to test model on later"
   ]
  },
  {
   "cell_type": "code",
   "execution_count": 31,
   "metadata": {},
   "outputs": [],
   "source": [
    "boxing_last_x_records = data_final[2228:2728]"
   ]
  },
  {
   "cell_type": "code",
   "execution_count": 32,
   "metadata": {},
   "outputs": [
    {
     "data": {
      "text/plain": [
       "(500, 25)"
      ]
     },
     "execution_count": 32,
     "metadata": {},
     "output_type": "execute_result"
    }
   ],
   "source": [
    "boxing_last_x_records.shape"
   ]
  },
  {
   "cell_type": "code",
   "execution_count": 33,
   "metadata": {},
   "outputs": [],
   "source": [
    "#export test data for later, this data has not been touched by the regression\n",
    "\n",
    "boxing_last_x_records.to_csv(\"boxing_last_x_records.csv\")"
   ]
  },
  {
   "cell_type": "code",
   "execution_count": 34,
   "metadata": {},
   "outputs": [
    {
     "data": {
      "text/plain": [
       "(2728, 25)"
      ]
     },
     "execution_count": 34,
     "metadata": {},
     "output_type": "execute_result"
    }
   ],
   "source": [
    "data_final.shape"
   ]
  },
  {
   "cell_type": "code",
   "execution_count": 35,
   "metadata": {},
   "outputs": [],
   "source": [
    "data_final = data_final[0:2228]"
   ]
  },
  {
   "cell_type": "code",
   "execution_count": 36,
   "metadata": {},
   "outputs": [
    {
     "data": {
      "text/plain": [
       "(2228, 25)"
      ]
     },
     "execution_count": 36,
     "metadata": {},
     "output_type": "execute_result"
    }
   ],
   "source": [
    "data_final.shape"
   ]
  },
  {
   "cell_type": "markdown",
   "metadata": {},
   "source": [
    "## Creating the Model"
   ]
  },
  {
   "cell_type": "markdown",
   "metadata": {},
   "source": [
    "### Feature Selection (RFE) "
   ]
  },
  {
   "cell_type": "code",
   "execution_count": 37,
   "metadata": {},
   "outputs": [],
   "source": [
    "data_final_vars=data_final.columns.values.tolist()\n",
    "y=[dependent_variable]\n",
    "X=[i for i in data_final_vars if i not in y]"
   ]
  },
  {
   "cell_type": "code",
   "execution_count": 38,
   "metadata": {},
   "outputs": [
    {
     "name": "stderr",
     "output_type": "stream",
     "text": [
      "/Library/Frameworks/Python.framework/Versions/3.6/lib/python3.6/site-packages/sklearn/utils/validation.py:578: DataConversionWarning: A column-vector y was passed when a 1d array was expected. Please change the shape of y to (n_samples, ), for example using ravel().\n",
      "  y = column_or_1d(y, warn=True)\n"
     ]
    },
    {
     "name": "stdout",
     "output_type": "stream",
     "text": [
      "[False False False  True  True False False False False  True  True  True\n",
      "  True  True False  True  True False False False False  True  True  True]\n",
      "[ 9  8  5  1  1  6 10 12  3  1  1  1  1  1  2  1  1 11  7 13  4  1  1  1]\n"
     ]
    }
   ],
   "source": [
    "#using recursive feature elimination to remove irrelevant columns\n",
    "\n",
    "from sklearn import datasets\n",
    "from sklearn.feature_selection import RFE\n",
    "from sklearn.linear_model import LogisticRegression\n",
    "\n",
    "logreg = LogisticRegression()\n",
    "\n",
    "features_to_keep = 12\n",
    "\n",
    "rfe = RFE(logreg, features_to_keep) \n",
    "rfe = rfe.fit(data_final[X], data_final[y] )\n",
    "print(rfe.support_)\n",
    "print(rfe.ranking_)"
   ]
  },
  {
   "cell_type": "code",
   "execution_count": 39,
   "metadata": {},
   "outputs": [
    {
     "name": "stdout",
     "output_type": "stream",
     "text": [
      "[False, False, False, True, True, False, False, False, False, True, True, True, True, True, False, True, True, False, False, False, False, True, True, True]\n"
     ]
    }
   ],
   "source": [
    "rfe_support_list = rfe.support_.tolist()\n",
    "print(rfe_support_list)"
   ]
  },
  {
   "cell_type": "markdown",
   "metadata": {},
   "source": [
    "### Collecting relevant columns"
   ]
  },
  {
   "cell_type": "code",
   "execution_count": 40,
   "metadata": {},
   "outputs": [
    {
     "name": "stdout",
     "output_type": "stream",
     "text": [
      "False : age_A\n",
      "False : age_B\n",
      "False : height_A\n",
      "True : height_B\n",
      "True : reach_A\n",
      "False : reach_B\n",
      "False : weight_A\n",
      "False : weight_B\n",
      "False : won_A\n",
      "True : won_B\n",
      "True : lost_A\n",
      "True : lost_B\n",
      "True : drawn_A\n",
      "True : drawn_B\n",
      "False : kos_A\n",
      "True : kos_B\n",
      "True : age_diff\n",
      "False : height_diff\n",
      "False : reach_diff\n",
      "False : weight_diff\n",
      "False : kd_diff_A\n",
      "True : kd_diff_B\n",
      "True : stance_A_southpaw\n",
      "True : stance_B_southpaw\n"
     ]
    }
   ],
   "source": [
    "data_final_columns = data_final[X].columns.tolist()\n",
    "\n",
    "for n in range(len(rfe_support_list)):\n",
    "\n",
    "    print(str(rfe_support_list[n]) + \" : \" + data_final_columns[n])"
   ]
  },
  {
   "cell_type": "code",
   "execution_count": 41,
   "metadata": {},
   "outputs": [
    {
     "data": {
      "text/plain": [
       "['height_B',\n",
       " 'reach_A',\n",
       " 'won_B',\n",
       " 'lost_A',\n",
       " 'lost_B',\n",
       " 'drawn_A',\n",
       " 'drawn_B',\n",
       " 'kos_B',\n",
       " 'age_diff',\n",
       " 'kd_diff_B',\n",
       " 'stance_A_southpaw',\n",
       " 'stance_B_southpaw']"
      ]
     },
     "execution_count": 41,
     "metadata": {},
     "output_type": "execute_result"
    }
   ],
   "source": [
    "relevant_columns = []\n",
    "for n in range(len(rfe_support_list)):\n",
    "    if rfe_support_list[n] == True:\n",
    "        relevant_columns.append(data_final_columns[n])\n",
    "relevant_columns"
   ]
  },
  {
   "cell_type": "code",
   "execution_count": 42,
   "metadata": {},
   "outputs": [],
   "source": [
    "X = data_final[relevant_columns]\n",
    "y = data_final[dependent_variable]"
   ]
  },
  {
   "cell_type": "markdown",
   "metadata": {},
   "source": [
    "### Logistic Regression Model Fitting"
   ]
  },
  {
   "cell_type": "code",
   "execution_count": 43,
   "metadata": {},
   "outputs": [
    {
     "data": {
      "text/plain": [
       "LogisticRegression(C=1.0, class_weight=None, dual=False, fit_intercept=True,\n",
       "          intercept_scaling=1, max_iter=100, multi_class='ovr', n_jobs=1,\n",
       "          penalty='l2', random_state=None, solver='liblinear', tol=0.0001,\n",
       "          verbose=0, warm_start=False)"
      ]
     },
     "execution_count": 43,
     "metadata": {},
     "output_type": "execute_result"
    }
   ],
   "source": [
    "X_train, X_test, y_train, y_test = train_test_split(X, y, test_size = 0.5, random_state = 42)\n",
    "from sklearn.linear_model import LogisticRegression\n",
    "from sklearn import metrics\n",
    "logreg = LogisticRegression()\n",
    "logreg.fit(X_train, y_train)"
   ]
  },
  {
   "cell_type": "markdown",
   "metadata": {},
   "source": [
    "#### Show coefficients"
   ]
  },
  {
   "cell_type": "code",
   "execution_count": 44,
   "metadata": {},
   "outputs": [
    {
     "name": "stdout",
     "output_type": "stream",
     "text": [
      "[-0.026907131594570408, 0.02965530670846954, 0.07293576251518107, -0.09885390749492504, 0.10424850798319237, -0.028024100297096764, -0.03992409120896212, -0.0639861490523247, -0.022415465347209652, -0.031312745466804244, 0.015331346599411426, 0.015331346599411426]\n"
     ]
    }
   ],
   "source": [
    "for n in logreg.coef_.tolist():\n",
    "    print(n)"
   ]
  },
  {
   "cell_type": "markdown",
   "metadata": {},
   "source": [
    "#### Show intercept"
   ]
  },
  {
   "cell_type": "code",
   "execution_count": 45,
   "metadata": {},
   "outputs": [
    {
     "data": {
      "text/plain": [
       "array([0.92428029])"
      ]
     },
     "execution_count": 45,
     "metadata": {},
     "output_type": "execute_result"
    }
   ],
   "source": [
    "logreg.intercept_"
   ]
  },
  {
   "cell_type": "markdown",
   "metadata": {},
   "source": [
    "#### Show independant variables"
   ]
  },
  {
   "cell_type": "code",
   "execution_count": 46,
   "metadata": {},
   "outputs": [
    {
     "data": {
      "text/plain": [
       "Index(['height_B', 'reach_A', 'won_B', 'lost_A', 'lost_B', 'drawn_A',\n",
       "       'drawn_B', 'kos_B', 'age_diff', 'kd_diff_B', 'stance_A_southpaw',\n",
       "       'stance_B_southpaw'],\n",
       "      dtype='object')"
      ]
     },
     "execution_count": 46,
     "metadata": {},
     "output_type": "execute_result"
    }
   ],
   "source": [
    "X.columns"
   ]
  },
  {
   "cell_type": "code",
   "execution_count": 47,
   "metadata": {},
   "outputs": [
    {
     "data": {
      "text/plain": [
       "12"
      ]
     },
     "execution_count": 47,
     "metadata": {},
     "output_type": "execute_result"
    }
   ],
   "source": [
    "len(X.columns)"
   ]
  },
  {
   "cell_type": "markdown",
   "metadata": {},
   "source": [
    "### Predicting test set results and calculating the accuracy"
   ]
  },
  {
   "cell_type": "code",
   "execution_count": 48,
   "metadata": {},
   "outputs": [
    {
     "name": "stdout",
     "output_type": "stream",
     "text": [
      "Accuracy of logistic regression classifier on test set: 83.48%\n"
     ]
    }
   ],
   "source": [
    "y_pred = logreg.predict(X_test)\n",
    "print(\"Accuracy of logistic regression classifier on test set: {:.2%}\".format(logreg.score(X_test, y_test)))"
   ]
  },
  {
   "cell_type": "markdown",
   "metadata": {},
   "source": [
    "## Validating the Model"
   ]
  },
  {
   "cell_type": "markdown",
   "metadata": {},
   "source": [
    "### Cross Validation"
   ]
  },
  {
   "cell_type": "code",
   "execution_count": 49,
   "metadata": {},
   "outputs": [
    {
     "name": "stdout",
     "output_type": "stream",
     "text": [
      "10-fold cross validation average accuracy: 84.02%\n"
     ]
    }
   ],
   "source": [
    "from sklearn import model_selection\n",
    "from sklearn.model_selection import cross_val_score\n",
    "kfold = model_selection.KFold(n_splits=10, random_state=7)\n",
    "modelCV = LogisticRegression()\n",
    "scoring = 'accuracy'\n",
    "results = model_selection.cross_val_score(modelCV, X_train, y_train, cv=kfold, scoring=scoring)\n",
    "print(\"10-fold cross validation average accuracy: {:.2%}\".format(results.mean()))"
   ]
  },
  {
   "cell_type": "markdown",
   "metadata": {},
   "source": [
    "If the accuracy remains close to the accuracy of the logistic regression classifier on test set above the model 'generalizes well'"
   ]
  },
  {
   "cell_type": "markdown",
   "metadata": {},
   "source": [
    "### Confusion Matrix"
   ]
  },
  {
   "cell_type": "code",
   "execution_count": 50,
   "metadata": {},
   "outputs": [
    {
     "name": "stdout",
     "output_type": "stream",
     "text": [
      "[[  1 180]\n",
      " [  4 929]]\n"
     ]
    }
   ],
   "source": [
    "from sklearn.metrics import confusion_matrix\n",
    "confusion_matrix_ = confusion_matrix(y_test, y_pred)\n",
    "print(confusion_matrix_)"
   ]
  },
  {
   "cell_type": "markdown",
   "metadata": {},
   "source": [
    "### Compute precision, recall, F-measure and support"
   ]
  },
  {
   "cell_type": "code",
   "execution_count": 51,
   "metadata": {
    "scrolled": true
   },
   "outputs": [
    {
     "name": "stdout",
     "output_type": "stream",
     "text": [
      "             precision    recall  f1-score   support\n",
      "\n",
      "          0       0.20      0.01      0.01       181\n",
      "          1       0.84      1.00      0.91       933\n",
      "\n",
      "avg / total       0.73      0.83      0.76      1114\n",
      "\n"
     ]
    }
   ],
   "source": [
    "from sklearn.metrics import classification_report\n",
    "print(classification_report(y_test, y_pred))"
   ]
  },
  {
   "cell_type": "markdown",
   "metadata": {},
   "source": [
    "### ROC Curve"
   ]
  },
  {
   "cell_type": "code",
   "execution_count": 52,
   "metadata": {},
   "outputs": [
    {
     "data": {
      "text/plain": [
       "<matplotlib.legend.Legend at 0x117469048>"
      ]
     },
     "execution_count": 52,
     "metadata": {},
     "output_type": "execute_result"
    },
    {
     "data": {
      "image/png": "[encoded data removed]",
      "text/plain": [
       "<Figure size 432x288 with 1 Axes>"
      ]
     },
     "metadata": {},
     "output_type": "display_data"
    }
   ],
   "source": [
    "from sklearn.metrics import roc_auc_score\n",
    "from sklearn.metrics import roc_curve\n",
    "logit_roc_auc = roc_auc_score(y_test, logreg.predict(X_test))\n",
    "fpr, tpr, thresholds = roc_curve(y_test, logreg.predict_proba(X_test)[:,1])\n",
    "plt.figure()\n",
    "plt.plot(fpr, tpr, label='Logistic Regression (area = %0.2f)' % logit_roc_auc)\n",
    "plt.plot([0, 1], [0, 1],'r--')\n",
    "plt.xlim([0.0, 1.0])\n",
    "plt.ylim([0.0, 1.05])\n",
    "plt.xlabel('False Positive Rate')\n",
    "plt.ylabel('True Positive Rate')\n",
    "plt.title('Receiver operating characteristic')\n",
    "plt.legend(loc=\"lower right\")\n"
   ]
  }
 ],
 "metadata": {
  "kernelspec": {
   "display_name": "Python 3",
   "language": "python",
   "name": "python3"
  },
  "language_info": {
   "codemirror_mode": {
    "name": "ipython",
    "version": 3
   },
   "file_extension": ".py",
   "mimetype": "text/x-python",
   "name": "python",
   "nbconvert_exporter": "python",
   "pygments_lexer": "ipython3",
   "version": "3.6.5"
  },
  "toc": {
   "base_numbering": "1",
   "nav_menu": {},
   "number_sections": true,
   "sideBar": true,
   "skip_h1_title": true,
   "title_cell": "Table of Contents",
   "title_sidebar": "Contents",
   "toc_cell": false,
   "toc_position": {
    "height": "calc(100% - 180px)",
    "left": "10px",
    "top": "150px",
    "width": "300px"
   },
   "toc_section_display": true,
   "toc_window_display": true
  },
  "varInspector": {
   "cols": {
    "lenName": 16,
    "lenType": 16,
    "lenVar": 40
   },
   "kernels_config": {
    "python": {
     "delete_cmd_postfix": "",
     "delete_cmd_prefix": "del ",
     "library": "var_list.py",
     "varRefreshCmd": "print(var_dic_list())"
    },
    "r": {
     "delete_cmd_postfix": ") ",
     "delete_cmd_prefix": "rm(",
     "library": "var_list.r",
     "varRefreshCmd": "cat(var_dic_list()) "
    }
   },
   "position": {
    "height": "670px",
    "left": "1550px",
    "right": "20px",
    "top": "120px",
    "width": "350px"
   },
   "types_to_exclude": [
    "module",
    "function",
    "builtin_function_or_method",
    "instance",
    "_Feature"
   ],
   "window_display": false
  }
 },
 "nbformat": 4,
 "nbformat_minor": 2
}
