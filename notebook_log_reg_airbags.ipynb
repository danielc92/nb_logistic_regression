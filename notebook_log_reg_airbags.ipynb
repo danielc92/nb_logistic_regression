{
 "cells": [
  {
   "cell_type": "code",
   "execution_count": null,
   "metadata": {
    "collapsed": true
   },
   "outputs": [],
   "source": [
    "#https://towardsdatascience.com/building-a-logistic-regression-in-python-step-by-step-becd4d56c9c8"
   ]
  },
  {
   "cell_type": "markdown",
   "metadata": {},
   "source": [
    "# Airbags Logistic Regression"
   ]
  },
  {
   "cell_type": "markdown",
   "metadata": {},
   "source": [
    "### Import modules"
   ]
  },
  {
   "cell_type": "code",
   "execution_count": 2,
   "metadata": {},
   "outputs": [
    {
     "name": "stderr",
     "output_type": "stream",
     "text": [
      "/Users/danielcorcoran/PycharmProjects/daniels_mac_proj/venv/lib/python3.6/site-packages/sklearn/cross_validation.py:41: DeprecationWarning: This module was deprecated in version 0.18 in favor of the model_selection module into which all the refactored classes and functions are moved. Also note that the interface of the new CV iterators are different from that of this module. This module will be removed in 0.20.\n",
      "  \"This module will be removed in 0.20.\", DeprecationWarning)\n"
     ]
    }
   ],
   "source": [
    "import pandas as pd\n",
    "import numpy as np\n",
    "\n",
    "from sklearn import preprocessing\n",
    "\n",
    "from sklearn.linear_model import LogisticRegression\n",
    "from sklearn.cross_validation import train_test_split"
   ]
  },
  {
   "cell_type": "markdown",
   "metadata": {},
   "source": [
    "### Visualisation Settings"
   ]
  },
  {
   "cell_type": "code",
   "execution_count": 3,
   "metadata": {
    "collapsed": true
   },
   "outputs": [],
   "source": [
    "import matplotlib.pyplot as plt\n",
    "import seaborn as sns\n",
    "\n",
    "%matplotlib inline\n",
    "plt.rc(\"font\", size=14)\n",
    "sns.set(rc={'figure.figsize':(7,5.5)})\n",
    "sns.set_style('whitegrid')\n",
    "sns.set_palette('Set3')"
   ]
  },
  {
   "cell_type": "markdown",
   "metadata": {},
   "source": [
    "### Logistic Regression Assumptions"
   ]
  },
  {
   "cell_type": "code",
   "execution_count": 4,
   "metadata": {
    "collapsed": true
   },
   "outputs": [],
   "source": [
    "#  Binary logistic regression requires the dependent variable to be binary.\n",
    "#  For a binary regression, the factor level 1 of the dependent variable should represent the desired outcome.\n",
    "#  Only the meaningful variables should be included.\n",
    "#  The independent variables should be independent of each other. That is, the model should have little or no multicollinearity.\n",
    "#  The independent variables are linearly related to the log odds.\n",
    "#  Logistic regression requires quite large sample sizes."
   ]
  },
  {
   "cell_type": "markdown",
   "metadata": {},
   "source": [
    "### Data"
   ]
  },
  {
   "cell_type": "code",
   "execution_count": 5,
   "metadata": {
    "collapsed": true
   },
   "outputs": [],
   "source": [
    "data = pd.read_csv(r\"C:\\Users\\admin-vicvphq\\PycharmProjects\\datasets\\CLEANED_AIRBAGS_06-00-2018_1300PM.csv\")"
   ]
  },
  {
   "cell_type": "code",
   "execution_count": 6,
   "metadata": {},
   "outputs": [
    {
     "data": {
      "text/html": [
       "<div>\n",
       "<style>\n",
       "    .dataframe thead tr:only-child th {\n",
       "        text-align: right;\n",
       "    }\n",
       "\n",
       "    .dataframe thead th {\n",
       "        text-align: left;\n",
       "    }\n",
       "\n",
       "    .dataframe tbody tr th {\n",
       "        vertical-align: top;\n",
       "    }\n",
       "</style>\n",
       "<table border=\"1\" class=\"dataframe\">\n",
       "  <thead>\n",
       "    <tr style=\"text-align: right;\">\n",
       "      <th></th>\n",
       "      <th>ROW_INDEX</th>\n",
       "      <th>COLUMN1</th>\n",
       "      <th>DVCAT</th>\n",
       "      <th>WEIGHT</th>\n",
       "      <th>DEAD</th>\n",
       "      <th>AIRBAG</th>\n",
       "      <th>SEATBELT</th>\n",
       "      <th>FRONTAL</th>\n",
       "      <th>SEX</th>\n",
       "      <th>AGEOFOCC</th>\n",
       "      <th>YEARACC</th>\n",
       "      <th>YEARVEH</th>\n",
       "      <th>ABCAT</th>\n",
       "      <th>OCCROLE</th>\n",
       "      <th>DEPLOY</th>\n",
       "      <th>INJSEVERITY</th>\n",
       "    </tr>\n",
       "  </thead>\n",
       "  <tbody>\n",
       "    <tr>\n",
       "      <th>0</th>\n",
       "      <td>1405</td>\n",
       "      <td>12887</td>\n",
       "      <td>10-24 KMPH</td>\n",
       "      <td>936.125</td>\n",
       "      <td>ALIVE</td>\n",
       "      <td>AIRBAG</td>\n",
       "      <td>BELTED</td>\n",
       "      <td>1</td>\n",
       "      <td>MALE</td>\n",
       "      <td>17</td>\n",
       "      <td>1999</td>\n",
       "      <td>1993</td>\n",
       "      <td>NODEPLOY</td>\n",
       "      <td>DRIVER</td>\n",
       "      <td>0</td>\n",
       "      <td>0</td>\n",
       "    </tr>\n",
       "    <tr>\n",
       "      <th>1</th>\n",
       "      <td>7100</td>\n",
       "      <td>17295</td>\n",
       "      <td>10-24 KMPH</td>\n",
       "      <td>260.033</td>\n",
       "      <td>ALIVE</td>\n",
       "      <td>AIRBAG</td>\n",
       "      <td>BELTED</td>\n",
       "      <td>1</td>\n",
       "      <td>MALE</td>\n",
       "      <td>21</td>\n",
       "      <td>2000</td>\n",
       "      <td>1997</td>\n",
       "      <td>DEPLOY</td>\n",
       "      <td>DRIVER</td>\n",
       "      <td>1</td>\n",
       "      <td>1</td>\n",
       "    </tr>\n",
       "    <tr>\n",
       "      <th>2</th>\n",
       "      <td>17108</td>\n",
       "      <td>26201</td>\n",
       "      <td>25-39 KMPH</td>\n",
       "      <td>225.957</td>\n",
       "      <td>ALIVE</td>\n",
       "      <td>AIRBAG</td>\n",
       "      <td>NONE</td>\n",
       "      <td>0</td>\n",
       "      <td>MALE</td>\n",
       "      <td>28</td>\n",
       "      <td>2002</td>\n",
       "      <td>2001</td>\n",
       "      <td>NODEPLOY</td>\n",
       "      <td>DRIVER</td>\n",
       "      <td>0</td>\n",
       "      <td>1</td>\n",
       "    </tr>\n",
       "    <tr>\n",
       "      <th>3</th>\n",
       "      <td>4451</td>\n",
       "      <td>12886</td>\n",
       "      <td>10-24 KMPH</td>\n",
       "      <td>936.125</td>\n",
       "      <td>ALIVE</td>\n",
       "      <td>NONE</td>\n",
       "      <td>NONE</td>\n",
       "      <td>0</td>\n",
       "      <td>MALE</td>\n",
       "      <td>70</td>\n",
       "      <td>1999</td>\n",
       "      <td>1979</td>\n",
       "      <td>UNAVAIL</td>\n",
       "      <td>DRIVER</td>\n",
       "      <td>0</td>\n",
       "      <td>0</td>\n",
       "    </tr>\n",
       "    <tr>\n",
       "      <th>4</th>\n",
       "      <td>12415</td>\n",
       "      <td>17294</td>\n",
       "      <td>10-24 KMPH</td>\n",
       "      <td>260.033</td>\n",
       "      <td>ALIVE</td>\n",
       "      <td>AIRBAG</td>\n",
       "      <td>NONE</td>\n",
       "      <td>0</td>\n",
       "      <td>MALE</td>\n",
       "      <td>27</td>\n",
       "      <td>2000</td>\n",
       "      <td>1995</td>\n",
       "      <td>NODEPLOY</td>\n",
       "      <td>DRIVER</td>\n",
       "      <td>0</td>\n",
       "      <td>2</td>\n",
       "    </tr>\n",
       "    <tr>\n",
       "      <th>5</th>\n",
       "      <td>26084</td>\n",
       "      <td>12884</td>\n",
       "      <td>1-9 KMPH</td>\n",
       "      <td>3.199</td>\n",
       "      <td>ALIVE</td>\n",
       "      <td>AIRBAG</td>\n",
       "      <td>BELTED</td>\n",
       "      <td>0</td>\n",
       "      <td>MALE</td>\n",
       "      <td>50</td>\n",
       "      <td>1999</td>\n",
       "      <td>1997</td>\n",
       "      <td>DEPLOY</td>\n",
       "      <td>DRIVER</td>\n",
       "      <td>1</td>\n",
       "      <td>3</td>\n",
       "    </tr>\n",
       "  </tbody>\n",
       "</table>\n",
       "</div>"
      ],
      "text/plain": [
       "   ROW_INDEX  COLUMN1       DVCAT   WEIGHT   DEAD  AIRBAG SEATBELT  FRONTAL  \\\n",
       "0       1405    12887  10-24 KMPH  936.125  ALIVE  AIRBAG   BELTED        1   \n",
       "1       7100    17295  10-24 KMPH  260.033  ALIVE  AIRBAG   BELTED        1   \n",
       "2      17108    26201  25-39 KMPH  225.957  ALIVE  AIRBAG     NONE        0   \n",
       "3       4451    12886  10-24 KMPH  936.125  ALIVE    NONE     NONE        0   \n",
       "4      12415    17294  10-24 KMPH  260.033  ALIVE  AIRBAG     NONE        0   \n",
       "5      26084    12884    1-9 KMPH    3.199  ALIVE  AIRBAG   BELTED        0   \n",
       "\n",
       "    SEX  AGEOFOCC  YEARACC YEARVEH     ABCAT OCCROLE  DEPLOY INJSEVERITY  \n",
       "0  MALE        17     1999    1993  NODEPLOY  DRIVER       0           0  \n",
       "1  MALE        21     2000    1997    DEPLOY  DRIVER       1           1  \n",
       "2  MALE        28     2002    2001  NODEPLOY  DRIVER       0           1  \n",
       "3  MALE        70     1999    1979   UNAVAIL  DRIVER       0           0  \n",
       "4  MALE        27     2000    1995  NODEPLOY  DRIVER       0           2  \n",
       "5  MALE        50     1999    1997    DEPLOY  DRIVER       1           3  "
      ]
     },
     "execution_count": 6,
     "metadata": {},
     "output_type": "execute_result"
    }
   ],
   "source": [
    "data.head(6) #first 11 columns"
   ]
  },
  {
   "cell_type": "code",
   "execution_count": 7,
   "metadata": {},
   "outputs": [
    {
     "data": {
      "text/plain": [
       "(26217, 16)"
      ]
     },
     "execution_count": 7,
     "metadata": {},
     "output_type": "execute_result"
    }
   ],
   "source": [
    "data.shape"
   ]
  },
  {
   "cell_type": "code",
   "execution_count": 8,
   "metadata": {
    "collapsed": true
   },
   "outputs": [],
   "source": [
    "data = data.drop([\"ROW_INDEX\", \"COLUMN1\", \"INJSEVERITY\"], axis = 1)"
   ]
  },
  {
   "cell_type": "code",
   "execution_count": 9,
   "metadata": {},
   "outputs": [
    {
     "data": {
      "text/html": [
       "<div>\n",
       "<style>\n",
       "    .dataframe thead tr:only-child th {\n",
       "        text-align: right;\n",
       "    }\n",
       "\n",
       "    .dataframe thead th {\n",
       "        text-align: left;\n",
       "    }\n",
       "\n",
       "    .dataframe tbody tr th {\n",
       "        vertical-align: top;\n",
       "    }\n",
       "</style>\n",
       "<table border=\"1\" class=\"dataframe\">\n",
       "  <thead>\n",
       "    <tr style=\"text-align: right;\">\n",
       "      <th></th>\n",
       "      <th>DVCAT</th>\n",
       "      <th>WEIGHT</th>\n",
       "      <th>DEAD</th>\n",
       "      <th>AIRBAG</th>\n",
       "      <th>SEATBELT</th>\n",
       "      <th>FRONTAL</th>\n",
       "      <th>SEX</th>\n",
       "      <th>AGEOFOCC</th>\n",
       "      <th>YEARACC</th>\n",
       "      <th>YEARVEH</th>\n",
       "      <th>ABCAT</th>\n",
       "      <th>OCCROLE</th>\n",
       "      <th>DEPLOY</th>\n",
       "    </tr>\n",
       "  </thead>\n",
       "  <tbody>\n",
       "    <tr>\n",
       "      <th>0</th>\n",
       "      <td>10-24 KMPH</td>\n",
       "      <td>936.125</td>\n",
       "      <td>ALIVE</td>\n",
       "      <td>AIRBAG</td>\n",
       "      <td>BELTED</td>\n",
       "      <td>1</td>\n",
       "      <td>MALE</td>\n",
       "      <td>17</td>\n",
       "      <td>1999</td>\n",
       "      <td>1993</td>\n",
       "      <td>NODEPLOY</td>\n",
       "      <td>DRIVER</td>\n",
       "      <td>0</td>\n",
       "    </tr>\n",
       "    <tr>\n",
       "      <th>1</th>\n",
       "      <td>10-24 KMPH</td>\n",
       "      <td>260.033</td>\n",
       "      <td>ALIVE</td>\n",
       "      <td>AIRBAG</td>\n",
       "      <td>BELTED</td>\n",
       "      <td>1</td>\n",
       "      <td>MALE</td>\n",
       "      <td>21</td>\n",
       "      <td>2000</td>\n",
       "      <td>1997</td>\n",
       "      <td>DEPLOY</td>\n",
       "      <td>DRIVER</td>\n",
       "      <td>1</td>\n",
       "    </tr>\n",
       "    <tr>\n",
       "      <th>2</th>\n",
       "      <td>25-39 KMPH</td>\n",
       "      <td>225.957</td>\n",
       "      <td>ALIVE</td>\n",
       "      <td>AIRBAG</td>\n",
       "      <td>NONE</td>\n",
       "      <td>0</td>\n",
       "      <td>MALE</td>\n",
       "      <td>28</td>\n",
       "      <td>2002</td>\n",
       "      <td>2001</td>\n",
       "      <td>NODEPLOY</td>\n",
       "      <td>DRIVER</td>\n",
       "      <td>0</td>\n",
       "    </tr>\n",
       "    <tr>\n",
       "      <th>3</th>\n",
       "      <td>10-24 KMPH</td>\n",
       "      <td>936.125</td>\n",
       "      <td>ALIVE</td>\n",
       "      <td>NONE</td>\n",
       "      <td>NONE</td>\n",
       "      <td>0</td>\n",
       "      <td>MALE</td>\n",
       "      <td>70</td>\n",
       "      <td>1999</td>\n",
       "      <td>1979</td>\n",
       "      <td>UNAVAIL</td>\n",
       "      <td>DRIVER</td>\n",
       "      <td>0</td>\n",
       "    </tr>\n",
       "  </tbody>\n",
       "</table>\n",
       "</div>"
      ],
      "text/plain": [
       "        DVCAT   WEIGHT   DEAD  AIRBAG SEATBELT  FRONTAL   SEX  AGEOFOCC  \\\n",
       "0  10-24 KMPH  936.125  ALIVE  AIRBAG   BELTED        1  MALE        17   \n",
       "1  10-24 KMPH  260.033  ALIVE  AIRBAG   BELTED        1  MALE        21   \n",
       "2  25-39 KMPH  225.957  ALIVE  AIRBAG     NONE        0  MALE        28   \n",
       "3  10-24 KMPH  936.125  ALIVE    NONE     NONE        0  MALE        70   \n",
       "\n",
       "   YEARACC YEARVEH     ABCAT OCCROLE  DEPLOY  \n",
       "0     1999    1993  NODEPLOY  DRIVER       0  \n",
       "1     2000    1997    DEPLOY  DRIVER       1  \n",
       "2     2002    2001  NODEPLOY  DRIVER       0  \n",
       "3     1999    1979   UNAVAIL  DRIVER       0  "
      ]
     },
     "execution_count": 9,
     "metadata": {},
     "output_type": "execute_result"
    }
   ],
   "source": [
    "data.head(4)"
   ]
  },
  {
   "cell_type": "code",
   "execution_count": 10,
   "metadata": {},
   "outputs": [
    {
     "data": {
      "text/plain": [
       "(26217, 13)"
      ]
     },
     "execution_count": 10,
     "metadata": {},
     "output_type": "execute_result"
    }
   ],
   "source": [
    "data.shape"
   ]
  },
  {
   "cell_type": "code",
   "execution_count": 11,
   "metadata": {},
   "outputs": [
    {
     "name": "stdout",
     "output_type": "stream",
     "text": [
      "DVCAT has 5 unique values.\n",
      "WEIGHT has 10131 unique values.\n",
      "DEAD has 2 unique values.\n",
      "AIRBAG has 2 unique values.\n",
      "SEATBELT has 2 unique values.\n",
      "FRONTAL has 2 unique values.\n",
      "SEX has 2 unique values.\n",
      "AGEOFOCC has 82 unique values.\n",
      "YEARACC has 6 unique values.\n",
      "YEARVEH has 46 unique values.\n",
      "ABCAT has 3 unique values.\n",
      "OCCROLE has 2 unique values.\n",
      "DEPLOY has 2 unique values.\n"
     ]
    }
   ],
   "source": [
    "for column in data.columns:\n",
    "    unique_values = data[column].value_counts().count()\n",
    "    print(str(column) +' has '+ str(unique_values) + ' unique values.')"
   ]
  },
  {
   "cell_type": "markdown",
   "metadata": {},
   "source": [
    "### Meeting condition 1: No Nulls"
   ]
  },
  {
   "cell_type": "code",
   "execution_count": 12,
   "metadata": {},
   "outputs": [
    {
     "name": "stdout",
     "output_type": "stream",
     "text": [
      "<class 'pandas.core.frame.DataFrame'>\n",
      "RangeIndex: 26217 entries, 0 to 26216\n",
      "Data columns (total 13 columns):\n",
      "DVCAT       26217 non-null object\n",
      "WEIGHT      26217 non-null float64\n",
      "DEAD        26217 non-null object\n",
      "AIRBAG      26217 non-null object\n",
      "SEATBELT    26217 non-null object\n",
      "FRONTAL     26217 non-null int64\n",
      "SEX         26217 non-null object\n",
      "AGEOFOCC    26217 non-null int64\n",
      "YEARACC     26217 non-null int64\n",
      "YEARVEH     26217 non-null object\n",
      "ABCAT       26217 non-null object\n",
      "OCCROLE     26217 non-null object\n",
      "DEPLOY      26217 non-null int64\n",
      "dtypes: float64(1), int64(4), object(8)\n",
      "memory usage: 2.6+ MB\n"
     ]
    }
   ],
   "source": [
    "data.info()"
   ]
  },
  {
   "cell_type": "markdown",
   "metadata": {},
   "source": [
    "### Meeting condition 2: Sufficient Records"
   ]
  },
  {
   "cell_type": "code",
   "execution_count": 13,
   "metadata": {},
   "outputs": [
    {
     "data": {
      "text/plain": [
       "2016.6923076923076"
      ]
     },
     "execution_count": 13,
     "metadata": {},
     "output_type": "execute_result"
    }
   ],
   "source": [
    "data.shape[0]/data.shape[1]"
   ]
  },
  {
   "cell_type": "code",
   "execution_count": 14,
   "metadata": {
    "collapsed": true
   },
   "outputs": [],
   "source": [
    "# condition is 50 records per variable, we have 1532 per variable"
   ]
  },
  {
   "cell_type": "markdown",
   "metadata": {},
   "source": [
    "### Meeting condition 3: Target is binary or ordinal"
   ]
  },
  {
   "cell_type": "code",
   "execution_count": 15,
   "metadata": {},
   "outputs": [
    {
     "data": {
      "text/plain": [
       "ALIVE    25037\n",
       "DEAD      1180\n",
       "Name: DEAD, dtype: int64"
      ]
     },
     "execution_count": 15,
     "metadata": {},
     "output_type": "execute_result"
    }
   ],
   "source": [
    "data['DEAD'].value_counts()"
   ]
  },
  {
   "cell_type": "code",
   "execution_count": 16,
   "metadata": {
    "collapsed": true
   },
   "outputs": [],
   "source": [
    "#there are only 2 values in the target varible, target is binary."
   ]
  },
  {
   "cell_type": "code",
   "execution_count": 17,
   "metadata": {},
   "outputs": [
    {
     "data": {
      "text/plain": [
       "<matplotlib.axes._subplots.AxesSubplot at 0xe428744668>"
      ]
     },
     "execution_count": 17,
     "metadata": {},
     "output_type": "execute_result"
    },
    {
     "data": {
      "image/png": "[encoded data removed]",
      "text/plain": [
       "<matplotlib.figure.Figure at 0xe424272cf8>"
      ]
     },
     "metadata": {},
     "output_type": "display_data"
    }
   ],
   "source": [
    "sns.countplot(data = data, x = 'DEAD')"
   ]
  },
  {
   "cell_type": "markdown",
   "metadata": {},
   "source": [
    "### Meeting condition 4: Little to no multicollinearity"
   ]
  },
  {
   "cell_type": "code",
   "execution_count": null,
   "metadata": {
    "collapsed": true
   },
   "outputs": [],
   "source": []
  },
  {
   "cell_type": "markdown",
   "metadata": {},
   "source": [
    "### Data Exploration"
   ]
  },
  {
   "cell_type": "code",
   "execution_count": 18,
   "metadata": {},
   "outputs": [
    {
     "data": {
      "text/plain": [
       "<matplotlib.axes._subplots.AxesSubplot at 0xe428bccac8>"
      ]
     },
     "execution_count": 18,
     "metadata": {},
     "output_type": "execute_result"
    },
    {
     "data": {
      "image/png": "[encoded data removed]",
      "text/plain": [
       "<matplotlib.figure.Figure at 0xe428d60908>"
      ]
     },
     "metadata": {},
     "output_type": "display_data"
    }
   ],
   "source": [
    "sns.countplot(data= data, x = 'DEAD')"
   ]
  },
  {
   "cell_type": "code",
   "execution_count": 19,
   "metadata": {},
   "outputs": [
    {
     "data": {
      "text/html": [
       "<div>\n",
       "<style>\n",
       "    .dataframe thead tr:only-child th {\n",
       "        text-align: right;\n",
       "    }\n",
       "\n",
       "    .dataframe thead th {\n",
       "        text-align: left;\n",
       "    }\n",
       "\n",
       "    .dataframe tbody tr th {\n",
       "        vertical-align: top;\n",
       "    }\n",
       "</style>\n",
       "<table border=\"1\" class=\"dataframe\">\n",
       "  <thead>\n",
       "    <tr style=\"text-align: right;\">\n",
       "      <th></th>\n",
       "      <th>WEIGHT</th>\n",
       "      <th>FRONTAL</th>\n",
       "      <th>AGEOFOCC</th>\n",
       "      <th>YEARACC</th>\n",
       "      <th>DEPLOY</th>\n",
       "    </tr>\n",
       "    <tr>\n",
       "      <th>DEAD</th>\n",
       "      <th></th>\n",
       "      <th></th>\n",
       "      <th></th>\n",
       "      <th></th>\n",
       "      <th></th>\n",
       "    </tr>\n",
       "  </thead>\n",
       "  <tbody>\n",
       "    <tr>\n",
       "      <th>ALIVE</th>\n",
       "      <td>482.004109</td>\n",
       "      <td>0.650397</td>\n",
       "      <td>36.857012</td>\n",
       "      <td>1999.562488</td>\n",
       "      <td>0.338219</td>\n",
       "    </tr>\n",
       "    <tr>\n",
       "      <th>DEAD</th>\n",
       "      <td>55.589090</td>\n",
       "      <td>0.493220</td>\n",
       "      <td>44.615254</td>\n",
       "      <td>1999.408475</td>\n",
       "      <td>0.311864</td>\n",
       "    </tr>\n",
       "  </tbody>\n",
       "</table>\n",
       "</div>"
      ],
      "text/plain": [
       "           WEIGHT   FRONTAL   AGEOFOCC      YEARACC    DEPLOY\n",
       "DEAD                                                         \n",
       "ALIVE  482.004109  0.650397  36.857012  1999.562488  0.338219\n",
       "DEAD    55.589090  0.493220  44.615254  1999.408475  0.311864"
      ]
     },
     "execution_count": 19,
     "metadata": {},
     "output_type": "execute_result"
    }
   ],
   "source": [
    "data.groupby('DEAD').mean()"
   ]
  },
  {
   "cell_type": "markdown",
   "metadata": {},
   "source": [
    "### Observations"
   ]
  },
  {
   "cell_type": "code",
   "execution_count": 20,
   "metadata": {
    "collapsed": true
   },
   "outputs": [],
   "source": [
    "# age is higher on average for dead drivers\n",
    "# frontal is lower on average for dead drivers\n",
    "# deploy is slightly higher for alive drivers"
   ]
  },
  {
   "cell_type": "markdown",
   "metadata": {},
   "source": [
    "### Visualizations"
   ]
  },
  {
   "cell_type": "code",
   "execution_count": 21,
   "metadata": {},
   "outputs": [
    {
     "data": {
      "text/plain": [
       "Text(0.5,1,'SEX COMPARISON')"
      ]
     },
     "execution_count": 21,
     "metadata": {},
     "output_type": "execute_result"
    },
    {
     "data": {
      "image/png": "[encoded data removed]",
      "text/plain": [
       "<matplotlib.figure.Figure at 0xe428dbf6a0>"
      ]
     },
     "metadata": {},
     "output_type": "display_data"
    }
   ],
   "source": [
    "x_name = \"SEX\"\n",
    "sns.countplot(data = data, x = x_name, hue = 'DEAD')\n",
    "plt.title(str(x_name) + \" COMPARISON\")"
   ]
  },
  {
   "cell_type": "code",
   "execution_count": 22,
   "metadata": {},
   "outputs": [
    {
     "data": {
      "text/plain": [
       "Text(0,0.5,'frequency')"
      ]
     },
     "execution_count": 22,
     "metadata": {},
     "output_type": "execute_result"
    },
    {
     "data": {
      "image/png": "[encoded data removed]",
      "text/plain": [
       "<matplotlib.figure.Figure at 0xe428ddda20>"
      ]
     },
     "metadata": {},
     "output_type": "display_data"
    }
   ],
   "source": [
    "data.AGEOFOCC.hist()\n",
    "plt.title(\"AGE HISTOGRAM\")\n",
    "plt.xlabel(\"customer age\")\n",
    "plt.ylabel(\"frequency\")"
   ]
  },
  {
   "cell_type": "code",
   "execution_count": 23,
   "metadata": {
    "collapsed": true
   },
   "outputs": [],
   "source": [
    "#most crashes are in the 20-30s age range"
   ]
  },
  {
   "cell_type": "code",
   "execution_count": 24,
   "metadata": {},
   "outputs": [
    {
     "data": {
      "text/plain": [
       "(15.919, 24.1]    8270\n",
       "(24.1, 32.2]      4631\n",
       "(32.2, 40.3]      3905\n",
       "(40.3, 48.4]      3153\n",
       "(48.4, 56.5]      2194\n",
       "(56.5, 64.6]      1343\n",
       "(64.6, 72.7]      1107\n",
       "(72.7, 80.8]      1021\n",
       "(80.8, 88.9]       519\n",
       "(88.9, 97.0]        74\n",
       "Name: AGEOFOCC, dtype: int64"
      ]
     },
     "execution_count": 24,
     "metadata": {},
     "output_type": "execute_result"
    }
   ],
   "source": [
    "cutted = pd.cut(data['AGEOFOCC'], 10)\n",
    "cutted.value_counts()"
   ]
  },
  {
   "cell_type": "markdown",
   "metadata": {},
   "source": [
    "### Creating Dummy Variables"
   ]
  },
  {
   "cell_type": "code",
   "execution_count": 25,
   "metadata": {
    "collapsed": true
   },
   "outputs": [],
   "source": [
    "#converting categorical columns into binary columns\n",
    "\n",
    "cat_vars = ['DVCAT','DEAD','AIRBAG','SEATBELT','SEX','ABCAT','OCCROLE']\n",
    "\n",
    "for var in cat_vars:\n",
    "    cat_list = 'var' + \"_\" + var\n",
    "    cat_list = pd.get_dummies(data[var], prefix = var, drop_first = True)\n",
    "    data1 = data.join(cat_list)\n",
    "    data = data1\n",
    "\n",
    "cat_vars = ['DVCAT','DEAD','AIRBAG','SEATBELT','SEX','ABCAT','OCCROLE']\n",
    "\n",
    "data_vars = data.columns.values.tolist()\n",
    "to_keep = [i for i in data_vars if i not in cat_vars]"
   ]
  },
  {
   "cell_type": "code",
   "execution_count": 26,
   "metadata": {},
   "outputs": [
    {
     "data": {
      "text/plain": [
       "array(['WEIGHT', 'FRONTAL', 'AGEOFOCC', 'YEARACC', 'YEARVEH', 'DEPLOY',\n",
       "       'DVCAT_10-24 KMPH', 'DVCAT_25-39 KMPH', 'DVCAT_40-54 KMPH',\n",
       "       'DVCAT_55+ KMPH', 'DEAD_DEAD', 'AIRBAG_NONE', 'SEATBELT_NONE',\n",
       "       'SEX_MALE', 'ABCAT_NODEPLOY', 'ABCAT_UNAVAIL', 'OCCROLE_PASS'], dtype=object)"
      ]
     },
     "execution_count": 26,
     "metadata": {},
     "output_type": "execute_result"
    }
   ],
   "source": [
    "data_final = data[to_keep]\n",
    "data_final.columns.values"
   ]
  },
  {
   "cell_type": "code",
   "execution_count": 27,
   "metadata": {},
   "outputs": [
    {
     "data": {
      "text/plain": [
       "(26217, 17)"
      ]
     },
     "execution_count": 27,
     "metadata": {},
     "output_type": "execute_result"
    }
   ],
   "source": [
    "data_final.shape"
   ]
  },
  {
   "cell_type": "code",
   "execution_count": 28,
   "metadata": {
    "collapsed": true
   },
   "outputs": [],
   "source": [
    "data_final_2002_only = data_final[data_final[\"YEARACC\"] == 2002]"
   ]
  },
  {
   "cell_type": "code",
   "execution_count": 29,
   "metadata": {},
   "outputs": [
    {
     "data": {
      "text/plain": [
       "(4764, 17)"
      ]
     },
     "execution_count": 29,
     "metadata": {},
     "output_type": "execute_result"
    }
   ],
   "source": [
    "data_final_2002_only.shape"
   ]
  },
  {
   "cell_type": "code",
   "execution_count": 30,
   "metadata": {
    "collapsed": true
   },
   "outputs": [],
   "source": [
    "data_final = data_final[data_final[\"YEARACC\"] != 2002]"
   ]
  },
  {
   "cell_type": "code",
   "execution_count": 31,
   "metadata": {},
   "outputs": [
    {
     "data": {
      "text/plain": [
       "(21453, 17)"
      ]
     },
     "execution_count": 31,
     "metadata": {},
     "output_type": "execute_result"
    }
   ],
   "source": [
    "data_final.shape"
   ]
  },
  {
   "cell_type": "code",
   "execution_count": 32,
   "metadata": {
    "collapsed": true
   },
   "outputs": [],
   "source": [
    "data_final = data_final[data_final[\"YEARVEH\"] != \"NAN\"]"
   ]
  },
  {
   "cell_type": "code",
   "execution_count": 33,
   "metadata": {},
   "outputs": [
    {
     "data": {
      "text/plain": [
       "YEARVEH\n",
       "1956       2\n",
       "1959       1\n",
       "1961       1\n",
       "1963       4\n",
       "1964       1\n",
       "1965       4\n",
       "1966      17\n",
       "1967       8\n",
       "1968      12\n",
       "1969      23\n",
       "1970      15\n",
       "1971      15\n",
       "1972      21\n",
       "1973      34\n",
       "1974      22\n",
       "1975      27\n",
       "1976      32\n",
       "1977      53\n",
       "1978     107\n",
       "1979     120\n",
       "1980     100\n",
       "1981     128\n",
       "1982     175\n",
       "1983     247\n",
       "1984     469\n",
       "1985     639\n",
       "1986     819\n",
       "1987     930\n",
       "1988    1120\n",
       "1989    1166\n",
       "1990    1174\n",
       "1991    1199\n",
       "1992    1197\n",
       "1993    1370\n",
       "1994    1544\n",
       "1995    1742\n",
       "1996    1577\n",
       "1997    1618\n",
       "1998    1529\n",
       "1999    1126\n",
       "2000     772\n",
       "2001     267\n",
       "2002      25\n",
       "Name: AGEOFOCC, dtype: int64"
      ]
     },
     "execution_count": 33,
     "metadata": {},
     "output_type": "execute_result"
    }
   ],
   "source": [
    "data_final.groupby(\"YEARVEH\")[\"AGEOFOCC\"].count()"
   ]
  },
  {
   "cell_type": "markdown",
   "metadata": {},
   "source": [
    "### Feature Selection (RFE) "
   ]
  },
  {
   "cell_type": "code",
   "execution_count": 34,
   "metadata": {
    "collapsed": true
   },
   "outputs": [],
   "source": [
    "data_final_vars=data_final.columns.values.tolist()\n",
    "y=['DEAD_DEAD']\n",
    "X=[i for i in data_final_vars if i not in y]"
   ]
  },
  {
   "cell_type": "code",
   "execution_count": 35,
   "metadata": {},
   "outputs": [
    {
     "name": "stderr",
     "output_type": "stream",
     "text": [
      "H:\\Data\\ProgramData\\Anaconda3\\lib\\site-packages\\sklearn\\utils\\validation.py:578: DataConversionWarning: A column-vector y was passed when a 1d array was expected. Please change the shape of y to (n_samples, ), for example using ravel().\n",
      "  y = column_or_1d(y, warn=True)\n"
     ]
    },
    {
     "name": "stdout",
     "output_type": "stream",
     "text": [
      "[False  True False False False  True  True  True  True  True  True  True\n",
      " False  True  True False]\n",
      "[5 1 4 6 7 1 1 1 1 1 1 1 3 1 1 2]\n"
     ]
    }
   ],
   "source": [
    "#using recursive feature elimination to remove irrelevant columns\n",
    "\n",
    "from sklearn import datasets\n",
    "from sklearn.feature_selection import RFE\n",
    "from sklearn.linear_model import LogisticRegression\n",
    "\n",
    "logreg = LogisticRegression()\n",
    "\n",
    "#where 10 is features to be selected\n",
    "rfe = RFE(logreg, 10) \n",
    "rfe = rfe.fit(data_final[X], data_final[y] )\n",
    "print(rfe.support_)\n",
    "print(rfe.ranking_)"
   ]
  },
  {
   "cell_type": "code",
   "execution_count": 36,
   "metadata": {},
   "outputs": [
    {
     "name": "stdout",
     "output_type": "stream",
     "text": [
      "[False, True, False, False, False, True, True, True, True, True, True, True, False, True, True, False]\n"
     ]
    }
   ],
   "source": [
    "rfe_support_list = rfe.support_.tolist()\n",
    "print(rfe_support_list)"
   ]
  },
  {
   "cell_type": "markdown",
   "metadata": {},
   "source": [
    "### Collecting relevant columns"
   ]
  },
  {
   "cell_type": "code",
   "execution_count": 37,
   "metadata": {},
   "outputs": [
    {
     "name": "stdout",
     "output_type": "stream",
     "text": [
      "False : WEIGHT\n",
      "True : FRONTAL\n",
      "False : AGEOFOCC\n",
      "False : YEARACC\n",
      "False : YEARVEH\n",
      "True : DEPLOY\n",
      "True : DVCAT_10-24 KMPH\n",
      "True : DVCAT_25-39 KMPH\n",
      "True : DVCAT_40-54 KMPH\n",
      "True : DVCAT_55+ KMPH\n",
      "True : AIRBAG_NONE\n",
      "True : SEATBELT_NONE\n",
      "False : SEX_MALE\n",
      "True : ABCAT_NODEPLOY\n",
      "True : ABCAT_UNAVAIL\n",
      "False : OCCROLE_PASS\n"
     ]
    }
   ],
   "source": [
    "data_final_columns = data_final[X].columns.tolist()\n",
    "\n",
    "for n in range(len(rfe_support_list)):\n",
    "    \n",
    "    print(str(rfe_support_list[n]) +\" : \"+  data_final_columns[n])\n"
   ]
  },
  {
   "cell_type": "code",
   "execution_count": 38,
   "metadata": {},
   "outputs": [
    {
     "data": {
      "text/plain": [
       "['FRONTAL',\n",
       " 'DEPLOY',\n",
       " 'DVCAT_10-24 KMPH',\n",
       " 'DVCAT_25-39 KMPH',\n",
       " 'DVCAT_40-54 KMPH',\n",
       " 'DVCAT_55+ KMPH',\n",
       " 'AIRBAG_NONE',\n",
       " 'SEATBELT_NONE',\n",
       " 'ABCAT_NODEPLOY',\n",
       " 'ABCAT_UNAVAIL']"
      ]
     },
     "execution_count": 38,
     "metadata": {},
     "output_type": "execute_result"
    }
   ],
   "source": [
    "relevant_columns = []\n",
    "for n in range(len(rfe_support_list)):\n",
    "    if rfe_support_list[n] == True:\n",
    "        relevant_columns.append(data_final_columns[n])\n",
    "relevant_columns"
   ]
  },
  {
   "cell_type": "code",
   "execution_count": 39,
   "metadata": {
    "collapsed": true
   },
   "outputs": [],
   "source": [
    "X = data_final[relevant_columns]\n",
    "y = data_final['DEAD_DEAD']"
   ]
  },
  {
   "cell_type": "markdown",
   "metadata": {},
   "source": [
    "### Implementing the model"
   ]
  },
  {
   "cell_type": "code",
   "execution_count": 40,
   "metadata": {
    "collapsed": true
   },
   "outputs": [],
   "source": [
    "# from scipy import stats\n",
    "# stats.chisqprob = lambda chisq, df: stats.chi2.sf(chisq, df)\n",
    "# import statsmodels.api as sm\n",
    "# logit_model = sm.Logit(y,X)\n",
    "# results = logit_model.fit()\n",
    "# print(results.summary())"
   ]
  },
  {
   "cell_type": "code",
   "execution_count": 41,
   "metadata": {
    "collapsed": true
   },
   "outputs": [],
   "source": [
    "#check that p values are less than 0.05"
   ]
  },
  {
   "cell_type": "markdown",
   "metadata": {},
   "source": [
    "### Logistic Regression Model Fitting"
   ]
  },
  {
   "cell_type": "code",
   "execution_count": 42,
   "metadata": {},
   "outputs": [
    {
     "data": {
      "text/plain": [
       "LogisticRegression(C=1.0, class_weight=None, dual=False, fit_intercept=True,\n",
       "          intercept_scaling=1, max_iter=100, multi_class='ovr', n_jobs=1,\n",
       "          penalty='l2', random_state=None, solver='liblinear', tol=0.0001,\n",
       "          verbose=0, warm_start=False)"
      ]
     },
     "execution_count": 42,
     "metadata": {},
     "output_type": "execute_result"
    }
   ],
   "source": [
    "X_train, X_test, y_train, y_test = train_test_split(X, y, test_size = 0.3, random_state = 0)\n",
    "from sklearn.linear_model import LogisticRegression\n",
    "from sklearn import metrics\n",
    "logreg = LogisticRegression()\n",
    "logreg.fit(X_train, y_train)"
   ]
  },
  {
   "cell_type": "code",
   "execution_count": 43,
   "metadata": {},
   "outputs": [
    {
     "name": "stdout",
     "output_type": "stream",
     "text": [
      "[-1.1232850407634283, -0.9191391371965583, -0.7870836988852012, 0.5976296098563609, 1.7207278863681426, 2.8334626921488484, -0.44982180158181256, 0.9183858132621554, -1.2990375093547326, -0.44982180158181256]\n"
     ]
    }
   ],
   "source": [
    "for n in logreg.coef_.tolist():\n",
    "    print(n)"
   ]
  },
  {
   "cell_type": "code",
   "execution_count": 44,
   "metadata": {},
   "outputs": [
    {
     "data": {
      "text/plain": [
       "array([-2.66799845])"
      ]
     },
     "execution_count": 44,
     "metadata": {},
     "output_type": "execute_result"
    }
   ],
   "source": [
    "logreg.intercept_"
   ]
  },
  {
   "cell_type": "code",
   "execution_count": 45,
   "metadata": {},
   "outputs": [
    {
     "data": {
      "text/plain": [
       "Index(['FRONTAL', 'DEPLOY', 'DVCAT_10-24 KMPH', 'DVCAT_25-39 KMPH',\n",
       "       'DVCAT_40-54 KMPH', 'DVCAT_55+ KMPH', 'AIRBAG_NONE', 'SEATBELT_NONE',\n",
       "       'ABCAT_NODEPLOY', 'ABCAT_UNAVAIL'],\n",
       "      dtype='object')"
      ]
     },
     "execution_count": 45,
     "metadata": {},
     "output_type": "execute_result"
    }
   ],
   "source": [
    "X.columns"
   ]
  },
  {
   "cell_type": "code",
   "execution_count": 46,
   "metadata": {},
   "outputs": [
    {
     "data": {
      "text/plain": [
       "10"
      ]
     },
     "execution_count": 46,
     "metadata": {},
     "output_type": "execute_result"
    }
   ],
   "source": [
    "len(X.columns)"
   ]
  },
  {
   "cell_type": "markdown",
   "metadata": {},
   "source": [
    "### Predicting test set results and calculating the accuracy"
   ]
  },
  {
   "cell_type": "code",
   "execution_count": 47,
   "metadata": {},
   "outputs": [
    {
     "name": "stdout",
     "output_type": "stream",
     "text": [
      "Accuracy of logistic regression classifier on test set: 0.95\n"
     ]
    }
   ],
   "source": [
    "y_pred = logreg.predict(X_test)\n",
    "print(\"Accuracy of logistic regression classifier on test set: {:.2f}\".format(logreg.score(X_test, y_test)))"
   ]
  },
  {
   "cell_type": "markdown",
   "metadata": {},
   "source": [
    "### Cross Validation"
   ]
  },
  {
   "cell_type": "code",
   "execution_count": 48,
   "metadata": {},
   "outputs": [
    {
     "name": "stdout",
     "output_type": "stream",
     "text": [
      "10-fold cross validation average accuracy: 0.955\n"
     ]
    }
   ],
   "source": [
    "from sklearn import model_selection\n",
    "from sklearn.model_selection import cross_val_score\n",
    "kfold = model_selection.KFold(n_splits=10, random_state=7)\n",
    "modelCV = LogisticRegression()\n",
    "scoring = 'accuracy'\n",
    "results = model_selection.cross_val_score(modelCV, X_train, y_train, cv=kfold, scoring=scoring)\n",
    "print(\"10-fold cross validation average accuracy: %.3f\" % (results.mean()))"
   ]
  },
  {
   "cell_type": "code",
   "execution_count": 49,
   "metadata": {
    "collapsed": true
   },
   "outputs": [],
   "source": [
    "#if the accuracy remains close to the accuracy of the logistic regression classifier on test set above the model 'generalizes well'"
   ]
  },
  {
   "cell_type": "markdown",
   "metadata": {},
   "source": [
    "### Confusion Matrix"
   ]
  },
  {
   "cell_type": "code",
   "execution_count": 50,
   "metadata": {},
   "outputs": [
    {
     "name": "stdout",
     "output_type": "stream",
     "text": [
      "[[6105   18]\n",
      " [ 288   25]]\n"
     ]
    }
   ],
   "source": [
    "from sklearn.metrics import confusion_matrix\n",
    "confusion_matrix_ = confusion_matrix(y_test, y_pred)\n",
    "print(confusion_matrix_)"
   ]
  },
  {
   "cell_type": "code",
   "execution_count": 51,
   "metadata": {
    "collapsed": true
   },
   "outputs": [],
   "source": [
    "# 6105 + 25 correct predictions\n",
    "# 288 + 18 incorrect predictions "
   ]
  },
  {
   "cell_type": "markdown",
   "metadata": {},
   "source": [
    "### Compute precision, recall, F-measure and support"
   ]
  },
  {
   "cell_type": "code",
   "execution_count": 52,
   "metadata": {},
   "outputs": [
    {
     "name": "stdout",
     "output_type": "stream",
     "text": [
      "             precision    recall  f1-score   support\n",
      "\n",
      "          0       0.95      1.00      0.98      6123\n",
      "          1       0.58      0.08      0.14       313\n",
      "\n",
      "avg / total       0.94      0.95      0.93      6436\n",
      "\n"
     ]
    }
   ],
   "source": [
    "from sklearn.metrics import classification_report\n",
    "print(classification_report(y_test, y_pred))"
   ]
  },
  {
   "cell_type": "markdown",
   "metadata": {},
   "source": [
    "### ROC Curve"
   ]
  },
  {
   "cell_type": "code",
   "execution_count": 53,
   "metadata": {},
   "outputs": [
    {
     "data": {
      "text/plain": [
       "<matplotlib.legend.Legend at 0xe42a464550>"
      ]
     },
     "execution_count": 53,
     "metadata": {},
     "output_type": "execute_result"
    },
    {
     "data": {
      "image/png": "[encoded data removed]",
      "text/plain": [
       "<matplotlib.figure.Figure at 0xe42a477c50>"
      ]
     },
     "metadata": {},
     "output_type": "display_data"
    }
   ],
   "source": [
    "from sklearn.metrics import roc_auc_score\n",
    "from sklearn.metrics import roc_curve\n",
    "logit_roc_auc = roc_auc_score(y_test, logreg.predict(X_test))\n",
    "fpr, tpr, thresholds = roc_curve(y_test, logreg.predict_proba(X_test)[:,1])\n",
    "plt.figure()\n",
    "plt.plot(fpr, tpr, label='Logistic Regression (area = %0.2f)' % logit_roc_auc)\n",
    "plt.plot([0, 1], [0, 1],'r--')\n",
    "plt.xlim([0.0, 1.0])\n",
    "plt.ylim([0.0, 1.05])\n",
    "plt.xlabel('False Positive Rate')\n",
    "plt.ylabel('True Positive Rate')\n",
    "plt.title('Receiver operating characteristic')\n",
    "plt.legend(loc=\"lower right\")\n"
   ]
  },
  {
   "cell_type": "markdown",
   "metadata": {},
   "source": [
    "## Tests Below\n"
   ]
  },
  {
   "cell_type": "code",
   "execution_count": 54,
   "metadata": {
    "collapsed": true
   },
   "outputs": [],
   "source": [
    "data_final_2002_only.to_csv(\"data_final_2002.csv\")"
   ]
  },
  {
   "cell_type": "code",
   "execution_count": null,
   "metadata": {
    "collapsed": true
   },
   "outputs": [],
   "source": []
  }
 ],
 "metadata": {
  "kernelspec": {
   "display_name": "Python 3",
   "language": "python",
   "name": "python3"
  },
  "language_info": {
   "codemirror_mode": {
    "name": "ipython",
    "version": 3
   },
   "file_extension": ".py",
   "mimetype": "text/x-python",
   "name": "python",
   "nbconvert_exporter": "python",
   "pygments_lexer": "ipython3",
   "version": "3.6.5"
  }
 },
 "nbformat": 4,
 "nbformat_minor": 2
}
